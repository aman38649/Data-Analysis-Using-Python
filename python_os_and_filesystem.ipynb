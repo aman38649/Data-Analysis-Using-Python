{
  "cells": [
    {
      "cell_type": "markdown",
      "metadata": {
        "id": "PTl1tNhDXSgy"
      },
      "source": [
        "# Reading from and Writing to Files using Python\n",
        "\n",
        "![](https://i.imgur.com/rv8wZ7l.png)\n",
        "\n",
        "\n",
        "\n",
        "\n",
        "This tutorial series is a beginner-friendly introduction to programming and data analysis using the Python programming language. These tutorials take a practical and coding-focused approach. The best way to learn the material is to execute the code and experiment with it yourself. Check out the full series here:\n",
        "\n",
        "1. [First Steps with Python and Jupyter](https://jovian.ai/aakashns/first-steps-with-python)\n",
        "2. [A Quick Tour of Variables and Data Types](https://jovian.ai/aakashns/python-variables-and-data-types)\n",
        "3. [Branching using Conditional Statements and Loops](https://jovian.ai/aakashns/python-branching-and-loops)\n",
        "4. [Writing Reusable Code Using Functions](https://jovian.ai/aakashns/python-functions-and-scope)\n",
        "5. [Reading from and Writing to Files](https://jovian.ai/aakashns/python-os-and-filesystem)\n",
        "6. [Numerical Computing with Python and Numpy](https://jovian.ai/aakashns/python-numerical-computing-with-numpy)\n",
        "7. [Analyzing Tabular Data using Pandas](https://jovian.ai/aakashns/python-pandas-data-analysis)\n",
        "8. [Data Visualization using Matplotlib & Seaborn](https://jovian.ai/aakashns/python-matplotlib-data-visualization)\n",
        "9. [Exploratory Data Analysis - A Case Study](https://jovian.ai/aakashns/python-eda-stackoverflow-survey)\n"
      ]
    },
    {
      "cell_type": "markdown",
      "metadata": {
        "id": "nMk9WuG9XSg8"
      },
      "source": [
        "This tutorial covers the following topics:\n",
        "\n",
        "- Interacting with the filesystem using the `os` module\n",
        "- Downloading files from the internet using the `urllib` module\n",
        "- Reading and processing data from text files\n",
        "- Parsing data from CSV files into dictionaries & lists\n",
        "- Writing formatted data back to text files"
      ]
    },
    {
      "cell_type": "markdown",
      "metadata": {
        "id": "oKQw33AWXSg8"
      },
      "source": [
        "### How to run the code\n",
        "\n",
        "This tutorial is an executable [Jupyter notebook](https://jupyter.org) hosted on [Jovian](https://www.jovian.ai). You can _run_ this tutorial and experiment with the code examples in a couple of ways: *using free online resources* (recommended) or *on your computer*.\n",
        "\n",
        "#### Option 1: Running using free online resources (1-click, recommended)\n",
        "\n",
        "The easiest way to start executing the code is to click the **Run** button at the top of this page and select **Run on Binder**. You can also select \"Run on Colab\" or \"Run on Kaggle\", but you'll need to create an account on [Google Colab](https://colab.research.google.com) or [Kaggle](https://kaggle.com) to use these platforms.\n",
        "\n",
        "\n",
        "#### Option 2: Running on your computer locally\n",
        "\n",
        "To run the code on your computer locally, you'll need to set up [Python](https://www.python.org), download the notebook and install the required libraries. We recommend using the [Conda](https://docs.conda.io/projects/conda/en/latest/user-guide/install/) distribution of Python. Click the **Run** button at the top of this page, select the **Run Locally** option, and follow the instructions.\n",
        "\n",
        ">  **Jupyter Notebooks**: This tutorial is a [Jupyter notebook](https://jupyter.org) - a document made of _cells_. Each cell can contain code written in Python or explanations in plain English. You can execute code cells and view the results, e.g., numbers, messages, graphs, tables, files, etc., instantly within the notebook. Jupyter is a powerful platform for experimentation and analysis. Don't be afraid to mess around with the code & break things - you'll learn a lot by encountering and fixing errors. You can use the \"Kernel > Restart & Clear Output\" menu option to clear all outputs and start again from the top."
      ]
    },
    {
      "cell_type": "markdown",
      "metadata": {
        "id": "UpKAZbuMXSg-"
      },
      "source": [
        "## Interacting with the OS and filesystem\n",
        "\n",
        "The `os` module in Python provides many functions for interacting with the OS and the filesystem. Let's import it and try out some examples."
      ]
    },
    {
      "cell_type": "code",
      "execution_count": 1,
      "metadata": {
        "id": "V8GqkywSXSg-"
      },
      "outputs": [],
      "source": [
        "import os"
      ]
    },
    {
      "cell_type": "markdown",
      "metadata": {
        "id": "JMM82jL1XShA"
      },
      "source": [
        "We can check the present working directory using the `os.getcwd` function."
      ]
    },
    {
      "cell_type": "code",
      "execution_count": 2,
      "metadata": {
        "colab": {
          "base_uri": "https://localhost:8080/",
          "height": 36
        },
        "id": "Dm3ZVlUNXShB",
        "outputId": "76b23921-a7b7-45a4-db66-9e7a1e56f9ab"
      },
      "outputs": [
        {
          "output_type": "execute_result",
          "data": {
            "text/plain": [
              "'/content'"
            ],
            "application/vnd.google.colaboratory.intrinsic+json": {
              "type": "string"
            }
          },
          "metadata": {},
          "execution_count": 2
        }
      ],
      "source": [
        "os.getcwd()"
      ]
    },
    {
      "cell_type": "markdown",
      "metadata": {
        "id": "Vn9iUiOpXShC"
      },
      "source": [
        "To get the list of files in a directory, use `os.listdir`. You pass an absolute or relative path of a directory as the argument to the function."
      ]
    },
    {
      "cell_type": "code",
      "execution_count": 3,
      "metadata": {
        "colab": {
          "base_uri": "https://localhost:8080/"
        },
        "id": "tmSw33GOXShD",
        "outputId": "ca2c45d6-7e55-47ea-e273-a11a3b4120c5"
      },
      "outputs": [
        {
          "output_type": "stream",
          "name": "stdout",
          "text": [
            "Help on built-in function listdir in module posix:\n",
            "\n",
            "listdir(path=None)\n",
            "    Return a list containing the names of the files in the directory.\n",
            "    \n",
            "    path can be specified as either str, bytes, or a path-like object.  If path is bytes,\n",
            "      the filenames returned will also be bytes; in all other circumstances\n",
            "      the filenames returned will be str.\n",
            "    If path is None, uses the path='.'.\n",
            "    On some platforms, path may also be specified as an open file descriptor;\\\n",
            "      the file descriptor must refer to a directory.\n",
            "      If this functionality is unavailable, using it raises NotImplementedError.\n",
            "    \n",
            "    The list is in arbitrary order.  It does not include the special\n",
            "    entries '.' and '..' even if they are present in the directory.\n",
            "\n"
          ]
        }
      ],
      "source": [
        "help(os.listdir)"
      ]
    },
    {
      "cell_type": "code",
      "execution_count": 4,
      "metadata": {
        "colab": {
          "base_uri": "https://localhost:8080/"
        },
        "id": "fKeRi_4LXShE",
        "outputId": "d96265dd-aeb1-44be-a358-3ac9ca20526d"
      },
      "outputs": [
        {
          "output_type": "execute_result",
          "data": {
            "text/plain": [
              "['.config', 'sample_data']"
            ]
          },
          "metadata": {},
          "execution_count": 4
        }
      ],
      "source": [
        "os.listdir('.') # relative path"
      ]
    },
    {
      "cell_type": "code",
      "execution_count": 5,
      "metadata": {
        "colab": {
          "base_uri": "https://localhost:8080/"
        },
        "id": "dd74Ee2jXShF",
        "outputId": "5dec2808-eeba-44dc-f5fb-757a04c63782"
      },
      "outputs": [
        {
          "output_type": "execute_result",
          "data": {
            "text/plain": [
              "['libx32',\n",
              " 'include',\n",
              " 'sbin',\n",
              " 'local',\n",
              " 'lib64',\n",
              " 'share',\n",
              " 'bin',\n",
              " 'lib',\n",
              " 'games',\n",
              " 'src',\n",
              " 'lib32',\n",
              " 'colab',\n",
              " 'grte',\n",
              " 'libexec']"
            ]
          },
          "metadata": {},
          "execution_count": 5
        }
      ],
      "source": [
        "os.listdir('/usr') # absolute path"
      ]
    },
    {
      "cell_type": "markdown",
      "metadata": {
        "id": "JNu1cXakXShG"
      },
      "source": [
        "You can create a new directory using `os.makedirs`. Let's create a new directory called `data`, where we'll later download some files."
      ]
    },
    {
      "cell_type": "code",
      "execution_count": 6,
      "metadata": {
        "id": "Cmwd68tAXShG"
      },
      "outputs": [],
      "source": [
        "os.makedirs('./data', exist_ok=True)"
      ]
    },
    {
      "cell_type": "markdown",
      "metadata": {
        "id": "oy10l742XShI"
      },
      "source": [
        "Can you figure out what the argument `exist_ok` does? Try using the `help` function or [read the documentation](https://docs.python.org/3/library/os.html#os.makedirs).\n",
        "\n",
        "Let's verify that the directory was created and is currently empty."
      ]
    },
    {
      "cell_type": "code",
      "execution_count": 7,
      "metadata": {
        "colab": {
          "base_uri": "https://localhost:8080/"
        },
        "id": "ZBRVsGukXShJ",
        "outputId": "15aa1528-e783-4b61-f700-81aaaa5b6e86"
      },
      "outputs": [
        {
          "output_type": "execute_result",
          "data": {
            "text/plain": [
              "True"
            ]
          },
          "metadata": {},
          "execution_count": 7
        }
      ],
      "source": [
        "'data' in os.listdir('.')"
      ]
    },
    {
      "cell_type": "code",
      "execution_count": 8,
      "metadata": {
        "colab": {
          "base_uri": "https://localhost:8080/"
        },
        "id": "jzp6CH_JXShK",
        "outputId": "6c9be70f-a608-47c1-8e22-2060ccde228e"
      },
      "outputs": [
        {
          "output_type": "execute_result",
          "data": {
            "text/plain": [
              "[]"
            ]
          },
          "metadata": {},
          "execution_count": 8
        }
      ],
      "source": [
        "os.listdir('./data')"
      ]
    },
    {
      "cell_type": "markdown",
      "metadata": {
        "id": "bLx4wO_tXShL"
      },
      "source": [
        "Let us download some files into the `data` directory using the `urllib` module."
      ]
    },
    {
      "cell_type": "code",
      "execution_count": 9,
      "metadata": {
        "id": "nJxayPZ8XShO"
      },
      "outputs": [],
      "source": [
        "url1 = 'https://gist.githubusercontent.com/aakashns/257f6e6c8719c17d0e498ea287d1a386/raw/7def9ef4234ddf0bc82f855ad67dac8b971852ef/loans1.txt'\n",
        "url2 = 'https://gist.githubusercontent.com/aakashns/257f6e6c8719c17d0e498ea287d1a386/raw/7def9ef4234ddf0bc82f855ad67dac8b971852ef/loans2.txt'\n",
        "url3 = 'https://gist.githubusercontent.com/aakashns/257f6e6c8719c17d0e498ea287d1a386/raw/7def9ef4234ddf0bc82f855ad67dac8b971852ef/loans3.txt'"
      ]
    },
    {
      "cell_type": "code",
      "execution_count": 10,
      "metadata": {
        "id": "iwPfyIt9XShP"
      },
      "outputs": [],
      "source": [
        "from urllib.request import urlretrieve"
      ]
    },
    {
      "cell_type": "code",
      "execution_count": 11,
      "metadata": {
        "colab": {
          "base_uri": "https://localhost:8080/"
        },
        "id": "f2l72k99XShQ",
        "outputId": "af48336d-a3dd-4105-d885-a14104ea4027"
      },
      "outputs": [
        {
          "output_type": "execute_result",
          "data": {
            "text/plain": [
              "('./data/loans1.txt', <http.client.HTTPMessage at 0x7f2d1fef17b0>)"
            ]
          },
          "metadata": {},
          "execution_count": 11
        }
      ],
      "source": [
        "urlretrieve(url1, './data/loans1.txt')"
      ]
    },
    {
      "cell_type": "code",
      "execution_count": 12,
      "metadata": {
        "colab": {
          "base_uri": "https://localhost:8080/"
        },
        "id": "zJFN43ALXShR",
        "outputId": "33963721-2cff-4adb-de52-ba140e161696"
      },
      "outputs": [
        {
          "output_type": "execute_result",
          "data": {
            "text/plain": [
              "('./data/loans2.txt', <http.client.HTTPMessage at 0x7f2d1fef1a50>)"
            ]
          },
          "metadata": {},
          "execution_count": 12
        }
      ],
      "source": [
        "urlretrieve(url2, './data/loans2.txt')"
      ]
    },
    {
      "cell_type": "code",
      "execution_count": 13,
      "metadata": {
        "colab": {
          "base_uri": "https://localhost:8080/"
        },
        "id": "e7Wyy5gxXShS",
        "outputId": "59126134-1805-407d-a318-3b451766ccb9"
      },
      "outputs": [
        {
          "output_type": "execute_result",
          "data": {
            "text/plain": [
              "('./data/loans3.txt', <http.client.HTTPMessage at 0x7f2d1fef24d0>)"
            ]
          },
          "metadata": {},
          "execution_count": 13
        }
      ],
      "source": [
        "urlretrieve(url3, './data/loans3.txt')"
      ]
    },
    {
      "cell_type": "markdown",
      "metadata": {
        "id": "Y8FscQEbXShT"
      },
      "source": [
        "Let's verify that the files were downloaded."
      ]
    },
    {
      "cell_type": "code",
      "execution_count": 14,
      "metadata": {
        "colab": {
          "base_uri": "https://localhost:8080/"
        },
        "id": "7uOQEKC1XShU",
        "outputId": "5de2225a-f542-4d39-b1eb-ee584e8d37c7"
      },
      "outputs": [
        {
          "output_type": "execute_result",
          "data": {
            "text/plain": [
              "['loans2.txt', 'loans3.txt', 'loans1.txt']"
            ]
          },
          "metadata": {},
          "execution_count": 14
        }
      ],
      "source": [
        "os.listdir('./data')"
      ]
    },
    {
      "cell_type": "markdown",
      "metadata": {
        "id": "PAP9-PJtXShV"
      },
      "source": [
        "You can also use the [`requests`](https://docs.python-requests.org/en/master/) library to dowload URLs, although you'll need to [write some additional code](https://stackoverflow.com/questions/44699682/how-to-save-a-file-downloaded-from-requests-to-another-directory) to save the contents of the page to a file."
      ]
    },
    {
      "cell_type": "markdown",
      "metadata": {
        "id": "PsCTz_vsXShW"
      },
      "source": [
        "## Reading from a file\n",
        "\n",
        "To read the contents of a file, we first need to open the file using the built-in `open` function. The `open` function returns a file object and provides several methods for interacting with the file's contents."
      ]
    },
    {
      "cell_type": "code",
      "execution_count": 15,
      "metadata": {
        "id": "ChFo1ez9XShW"
      },
      "outputs": [],
      "source": [
        "file1 = open('./data/loans1.txt', mode='r')"
      ]
    },
    {
      "cell_type": "markdown",
      "metadata": {
        "id": "pdzh8RWeXShX"
      },
      "source": [
        "The `open` function also accepts a `mode` argument to specifies how we can interact with the file. The following options are supported:\n",
        "\n",
        "```\n",
        "    ========= ===============================================================\n",
        "    Character Meaning\n",
        "    --------- ---------------------------------------------------------------\n",
        "    'r'       open for reading (default)\n",
        "    'w'       open for writing, truncating the file first\n",
        "    'x'       create a new file and open it for writing\n",
        "    'a'       open for writing, appending to the end of the file if it exists\n",
        "    'b'       binary mode\n",
        "    't'       text mode (default)\n",
        "    '+'       open a disk file for updating (reading and writing)\n",
        "    'U'       universal newline mode (deprecated)\n",
        "    ========= ===============================================================\n",
        "```\n",
        "\n",
        "To view the contents of the file, we can use the `read` method of the file object."
      ]
    },
    {
      "cell_type": "code",
      "execution_count": 16,
      "metadata": {
        "id": "tlRodseEXShY"
      },
      "outputs": [],
      "source": [
        "file1_contents = file1.read()"
      ]
    },
    {
      "cell_type": "code",
      "execution_count": 17,
      "metadata": {
        "colab": {
          "base_uri": "https://localhost:8080/"
        },
        "id": "9PAitRZJXShb",
        "outputId": "e477b8a0-4def-493e-9a05-59d6d6c34aee"
      },
      "outputs": [
        {
          "output_type": "stream",
          "name": "stdout",
          "text": [
            "amount,duration,rate,down_payment\n",
            "100000,36,0.08,20000\n",
            "200000,12,0.1,\n",
            "628400,120,0.12,100000\n",
            "4637400,240,0.06,\n",
            "42900,90,0.07,8900\n",
            "916000,16,0.13,\n",
            "45230,48,0.08,4300\n",
            "991360,99,0.08,\n",
            "423000,27,0.09,47200\n"
          ]
        }
      ],
      "source": [
        "print(file1_contents)"
      ]
    },
    {
      "cell_type": "markdown",
      "metadata": {
        "id": "PxsXLpOnXShc"
      },
      "source": [
        "The file contains information about loans. It is a set of comma-separated values (CSV).\n",
        "\n",
        "> **CSVs**: A comma-separated values (CSV) file is a delimited text file that uses a comma to separate values. Each line of the file is a data record. Each record consists of one or more fields, separated by commas. A CSV file typically stores tabular data (numbers and text) in plain text, in which case each line will have the same number of fields. (Wikipedia)\n",
        "\n",
        "The first line of the file is the header, indicating what each of the numbers on the remaining lines represents. Each of the remaining lines provides information about a loan. Thus, the second line `100000,36,0.08,20000` represents a loan with:\n",
        "\n",
        "* an *amount* of `$100000`,\n",
        "* *duration* of `36` months,\n",
        "* *rate of interest* of `8%` per annum, and\n",
        "* a down payment of `$20000`\n",
        "\n",
        "The CSV is a standard file format used for sharing data for analysis and visualization. Over the course of this tutorial, we will read the data from these CSV files, process it, and write the results back to files. Before we continue, let's close the file using the `close` method (otherwise, Python will continue to hold the entire file in the RAM)"
      ]
    },
    {
      "cell_type": "code",
      "execution_count": 18,
      "metadata": {
        "id": "MFBYPviSXShc"
      },
      "outputs": [],
      "source": [
        "file1.close()"
      ]
    },
    {
      "cell_type": "markdown",
      "metadata": {
        "id": "otTSWSbQXShd"
      },
      "source": [
        "Once a file is closed, you can no longer read from it."
      ]
    },
    {
      "cell_type": "code",
      "execution_count": 20,
      "metadata": {
        "colab": {
          "base_uri": "https://localhost:8080/",
          "height": 172
        },
        "id": "-obejt_aXShe",
        "outputId": "66b7d9ba-7cf4-46da-aec7-ae973f35d302"
      },
      "outputs": [
        {
          "output_type": "error",
          "ename": "ValueError",
          "evalue": "ignored",
          "traceback": [
            "\u001b[0;31m---------------------------------------------------------------------------\u001b[0m",
            "\u001b[0;31mValueError\u001b[0m                                Traceback (most recent call last)",
            "\u001b[0;32m<ipython-input-20-2fcf3b5e742f>\u001b[0m in \u001b[0;36m<cell line: 1>\u001b[0;34m()\u001b[0m\n\u001b[0;32m----> 1\u001b[0;31m \u001b[0mfile1\u001b[0m\u001b[0;34m.\u001b[0m\u001b[0mread\u001b[0m\u001b[0;34m(\u001b[0m\u001b[0;34m)\u001b[0m\u001b[0;34m\u001b[0m\u001b[0;34m\u001b[0m\u001b[0m\n\u001b[0m",
            "\u001b[0;31mValueError\u001b[0m: I/O operation on closed file."
          ]
        }
      ],
      "source": [
        "file1.read()"
      ]
    },
    {
      "cell_type": "markdown",
      "metadata": {
        "id": "QJ88SSk5XShf"
      },
      "source": [
        "## Closing files automatically using `with`\n",
        "\n",
        "To close a file automatically after you've processed it, you can open it using the `with` statement."
      ]
    },
    {
      "cell_type": "code",
      "execution_count": 21,
      "metadata": {
        "colab": {
          "base_uri": "https://localhost:8080/"
        },
        "id": "m6juC_IOXShf",
        "outputId": "865aba76-7c3e-453f-b167-cebccf2f2e1f"
      },
      "outputs": [
        {
          "output_type": "stream",
          "name": "stdout",
          "text": [
            "amount,duration,rate,down_payment\n",
            "828400,120,0.11,100000\n",
            "4633400,240,0.06,\n",
            "42900,90,0.08,8900\n",
            "983000,16,0.14,\n",
            "15230,48,0.07,4300\n"
          ]
        }
      ],
      "source": [
        "with open('./data/loans2.txt') as file2:\n",
        "    file2_contents = file2.read()\n",
        "    print(file2_contents)"
      ]
    },
    {
      "cell_type": "markdown",
      "metadata": {
        "id": "xQCEgA0MXShg"
      },
      "source": [
        "Once the statements within the `with` block are executed, the `.close` method on `file2` is automatically invoked. Let's verify this by trying to read from the file object again."
      ]
    },
    {
      "cell_type": "code",
      "execution_count": 22,
      "metadata": {
        "colab": {
          "base_uri": "https://localhost:8080/",
          "height": 172
        },
        "id": "a6AMbOoqXShh",
        "outputId": "a6847809-1284-41b5-8054-9e1d43458aac"
      },
      "outputs": [
        {
          "output_type": "error",
          "ename": "ValueError",
          "evalue": "ignored",
          "traceback": [
            "\u001b[0;31m---------------------------------------------------------------------------\u001b[0m",
            "\u001b[0;31mValueError\u001b[0m                                Traceback (most recent call last)",
            "\u001b[0;32m<ipython-input-22-4a9205324152>\u001b[0m in \u001b[0;36m<cell line: 1>\u001b[0;34m()\u001b[0m\n\u001b[0;32m----> 1\u001b[0;31m \u001b[0mfile2\u001b[0m\u001b[0;34m.\u001b[0m\u001b[0mread\u001b[0m\u001b[0;34m(\u001b[0m\u001b[0;34m)\u001b[0m\u001b[0;34m\u001b[0m\u001b[0;34m\u001b[0m\u001b[0m\n\u001b[0m",
            "\u001b[0;31mValueError\u001b[0m: I/O operation on closed file."
          ]
        }
      ],
      "source": [
        "file2.read()"
      ]
    },
    {
      "cell_type": "markdown",
      "metadata": {
        "id": "lHeZKQ0UXShi"
      },
      "source": [
        "## Reading a file line by line\n",
        "\n",
        "\n",
        "File objects provide a `readlines` method to read a file line-by-line."
      ]
    },
    {
      "cell_type": "code",
      "execution_count": 23,
      "metadata": {
        "id": "sMIZkPjTXSh0"
      },
      "outputs": [],
      "source": [
        "with open('./data/loans3.txt', 'r') as file3:\n",
        "    file3_lines = file3.readlines()"
      ]
    },
    {
      "cell_type": "code",
      "execution_count": 24,
      "metadata": {
        "colab": {
          "base_uri": "https://localhost:8080/"
        },
        "id": "I-KHCS1lXSh1",
        "outputId": "e469eecb-37ed-4f29-d075-65cdecff2949"
      },
      "outputs": [
        {
          "output_type": "execute_result",
          "data": {
            "text/plain": [
              "['amount,duration,rate,down_payment\\n',\n",
              " '45230,48,0.07,4300\\n',\n",
              " '883000,16,0.14,\\n',\n",
              " '100000,12,0.1,\\n',\n",
              " '728400,120,0.12,100000\\n',\n",
              " '3637400,240,0.06,\\n',\n",
              " '82900,90,0.07,8900\\n',\n",
              " '316000,16,0.13,\\n',\n",
              " '15230,48,0.08,4300\\n',\n",
              " '991360,99,0.08,\\n',\n",
              " '323000,27,0.09,4720010000,36,0.08,20000\\n',\n",
              " '528400,120,0.11,100000\\n',\n",
              " '8633400,240,0.06,\\n',\n",
              " '12900,90,0.08,8900']"
            ]
          },
          "metadata": {},
          "execution_count": 24
        }
      ],
      "source": [
        "file3_lines"
      ]
    },
    {
      "cell_type": "markdown",
      "metadata": {
        "id": "9nJyEQsFXSh2"
      },
      "source": [
        "## Processing data from files\n",
        "\n",
        "Before performing any operations on the data stored in a file, we need to convert the file's contents from one large string into Python data types. For the file `loans1.txt` containing information about loans in a CSV format, we can do the following:\n",
        "\n",
        "* Read the file line by line\n",
        "* Parse the first line to get a list of the column names or headers\n",
        "* Split each remaining line and convert each value into a float\n",
        "* Create a dictionary for each loan using the headers as keys\n",
        "* Create a list of dictionaries to keep track of all the loans\n",
        "\n",
        "Since we will perform the same operations for multiple files, it would be useful to define a function `read_csv`. We'll also define some helper functions to build up the functionality step by step.\n",
        "\n",
        "Let's start by defining a function `parse_header` that takes a line as input and returns a list of column headers."
      ]
    },
    {
      "cell_type": "code",
      "execution_count": 25,
      "metadata": {
        "id": "zkqXAvioXSh2"
      },
      "outputs": [],
      "source": [
        "def parse_headers(header_line):\n",
        "    return header_line.strip().split(',')"
      ]
    },
    {
      "cell_type": "markdown",
      "metadata": {
        "id": "snR4pKP6XSh3"
      },
      "source": [
        "The `strip` method removes any extra spaces and the newline character `\\n`. The `split` method breaks a string into a list using the given separator (`,` in this case)."
      ]
    },
    {
      "cell_type": "code",
      "execution_count": 26,
      "metadata": {
        "colab": {
          "base_uri": "https://localhost:8080/",
          "height": 36
        },
        "id": "Fpvwa26uXSh3",
        "outputId": "2e86fa7b-a792-46c4-dae9-51d75280d7f0"
      },
      "outputs": [
        {
          "output_type": "execute_result",
          "data": {
            "text/plain": [
              "'amount,duration,rate,down_payment\\n'"
            ],
            "application/vnd.google.colaboratory.intrinsic+json": {
              "type": "string"
            }
          },
          "metadata": {},
          "execution_count": 26
        }
      ],
      "source": [
        "file3_lines[0]"
      ]
    },
    {
      "cell_type": "code",
      "execution_count": 27,
      "metadata": {
        "id": "Z2z5DZVBXSh4"
      },
      "outputs": [],
      "source": [
        "headers = parse_headers(file3_lines[0])"
      ]
    },
    {
      "cell_type": "code",
      "execution_count": 28,
      "metadata": {
        "colab": {
          "base_uri": "https://localhost:8080/"
        },
        "id": "YQLBjT7dXSh4",
        "outputId": "de008f6a-8085-40ef-bda3-ea68f5e00c32"
      },
      "outputs": [
        {
          "output_type": "execute_result",
          "data": {
            "text/plain": [
              "['amount', 'duration', 'rate', 'down_payment']"
            ]
          },
          "metadata": {},
          "execution_count": 28
        }
      ],
      "source": [
        "headers"
      ]
    },
    {
      "cell_type": "markdown",
      "metadata": {
        "id": "8iySVNiTXSh5"
      },
      "source": [
        "Next, let's define a function `parse_values` that takes a line containing some data and returns a list of floating-point numbers."
      ]
    },
    {
      "cell_type": "code",
      "execution_count": 29,
      "metadata": {
        "id": "kHesi3stXSh6"
      },
      "outputs": [],
      "source": [
        "def parse_values(data_line):\n",
        "    values = []\n",
        "    for item in data_line.strip().split(','):\n",
        "        values.append(float(item))\n",
        "    return values"
      ]
    },
    {
      "cell_type": "code",
      "execution_count": 30,
      "metadata": {
        "colab": {
          "base_uri": "https://localhost:8080/",
          "height": 36
        },
        "id": "HxcrH8MNXSh7",
        "outputId": "8f3ed826-680c-49ba-c785-9642d27316e4"
      },
      "outputs": [
        {
          "output_type": "execute_result",
          "data": {
            "text/plain": [
              "'45230,48,0.07,4300\\n'"
            ],
            "application/vnd.google.colaboratory.intrinsic+json": {
              "type": "string"
            }
          },
          "metadata": {},
          "execution_count": 30
        }
      ],
      "source": [
        "file3_lines[1]"
      ]
    },
    {
      "cell_type": "code",
      "execution_count": 31,
      "metadata": {
        "colab": {
          "base_uri": "https://localhost:8080/"
        },
        "id": "LlnDZE8BXSh7",
        "outputId": "e0348de6-ba23-49df-9270-c2ada3740d0f"
      },
      "outputs": [
        {
          "output_type": "execute_result",
          "data": {
            "text/plain": [
              "[45230.0, 48.0, 0.07, 4300.0]"
            ]
          },
          "metadata": {},
          "execution_count": 31
        }
      ],
      "source": [
        "parse_values(file3_lines[1])"
      ]
    },
    {
      "cell_type": "markdown",
      "metadata": {
        "id": "WJiohNIzXSh8"
      },
      "source": [
        "The values were parsed and converted to floating point numbers, as expected. Let's try it for another line from the file, which does not contain a value for the down payment."
      ]
    },
    {
      "cell_type": "code",
      "execution_count": 32,
      "metadata": {
        "colab": {
          "base_uri": "https://localhost:8080/",
          "height": 36
        },
        "id": "YiV3ucjPXSh9",
        "outputId": "eb5aea90-2140-4750-cdac-0c0f765df240"
      },
      "outputs": [
        {
          "output_type": "execute_result",
          "data": {
            "text/plain": [
              "'883000,16,0.14,\\n'"
            ],
            "application/vnd.google.colaboratory.intrinsic+json": {
              "type": "string"
            }
          },
          "metadata": {},
          "execution_count": 32
        }
      ],
      "source": [
        "file3_lines[2]"
      ]
    },
    {
      "cell_type": "code",
      "execution_count": 33,
      "metadata": {
        "colab": {
          "base_uri": "https://localhost:8080/",
          "height": 283
        },
        "id": "virNzLrkXSh-",
        "outputId": "9d581473-7a2c-48b1-84cc-1535dfd94db0"
      },
      "outputs": [
        {
          "output_type": "error",
          "ename": "ValueError",
          "evalue": "ignored",
          "traceback": [
            "\u001b[0;31m---------------------------------------------------------------------------\u001b[0m",
            "\u001b[0;31mValueError\u001b[0m                                Traceback (most recent call last)",
            "\u001b[0;32m<ipython-input-33-b170e8564609>\u001b[0m in \u001b[0;36m<cell line: 1>\u001b[0;34m()\u001b[0m\n\u001b[0;32m----> 1\u001b[0;31m \u001b[0mparse_values\u001b[0m\u001b[0;34m(\u001b[0m\u001b[0mfile3_lines\u001b[0m\u001b[0;34m[\u001b[0m\u001b[0;36m2\u001b[0m\u001b[0;34m]\u001b[0m\u001b[0;34m)\u001b[0m\u001b[0;34m\u001b[0m\u001b[0;34m\u001b[0m\u001b[0m\n\u001b[0m",
            "\u001b[0;32m<ipython-input-29-8be4024619c8>\u001b[0m in \u001b[0;36mparse_values\u001b[0;34m(data_line)\u001b[0m\n\u001b[1;32m      2\u001b[0m     \u001b[0mvalues\u001b[0m \u001b[0;34m=\u001b[0m \u001b[0;34m[\u001b[0m\u001b[0;34m]\u001b[0m\u001b[0;34m\u001b[0m\u001b[0;34m\u001b[0m\u001b[0m\n\u001b[1;32m      3\u001b[0m     \u001b[0;32mfor\u001b[0m \u001b[0mitem\u001b[0m \u001b[0;32min\u001b[0m \u001b[0mdata_line\u001b[0m\u001b[0;34m.\u001b[0m\u001b[0mstrip\u001b[0m\u001b[0;34m(\u001b[0m\u001b[0;34m)\u001b[0m\u001b[0;34m.\u001b[0m\u001b[0msplit\u001b[0m\u001b[0;34m(\u001b[0m\u001b[0;34m','\u001b[0m\u001b[0;34m)\u001b[0m\u001b[0;34m:\u001b[0m\u001b[0;34m\u001b[0m\u001b[0;34m\u001b[0m\u001b[0m\n\u001b[0;32m----> 4\u001b[0;31m         \u001b[0mvalues\u001b[0m\u001b[0;34m.\u001b[0m\u001b[0mappend\u001b[0m\u001b[0;34m(\u001b[0m\u001b[0mfloat\u001b[0m\u001b[0;34m(\u001b[0m\u001b[0mitem\u001b[0m\u001b[0;34m)\u001b[0m\u001b[0;34m)\u001b[0m\u001b[0;34m\u001b[0m\u001b[0;34m\u001b[0m\u001b[0m\n\u001b[0m\u001b[1;32m      5\u001b[0m     \u001b[0;32mreturn\u001b[0m \u001b[0mvalues\u001b[0m\u001b[0;34m\u001b[0m\u001b[0;34m\u001b[0m\u001b[0m\n",
            "\u001b[0;31mValueError\u001b[0m: could not convert string to float: ''"
          ]
        }
      ],
      "source": [
        "parse_values(file3_lines[2])"
      ]
    },
    {
      "cell_type": "markdown",
      "metadata": {
        "id": "Ermjy2QxXSh-"
      },
      "source": [
        "The code above leads to a `ValueError` because the empty string `''` cannot be converted to a float. We can enhance the `parse_values` function to handle this *edge case*. We will also handle the case where the value is not a float."
      ]
    },
    {
      "cell_type": "code",
      "execution_count": null,
      "metadata": {
        "id": "MZYLBcaFXSh_"
      },
      "outputs": [],
      "source": [
        "def parse_values(data_line):\n",
        "    values = []\n",
        "    for item in data_line.strip().split(','):\n",
        "        if item == '':\n",
        "            values.append(0.0)\n",
        "        else:\n",
        "            try:\n",
        "                values.append(float(item))\n",
        "            except ValueError:\n",
        "                values.append(item)\n",
        "    return values"
      ]
    },
    {
      "cell_type": "code",
      "execution_count": null,
      "metadata": {
        "id": "gVD-42HTXSh_"
      },
      "outputs": [],
      "source": [
        "file3_lines[2]"
      ]
    },
    {
      "cell_type": "code",
      "execution_count": null,
      "metadata": {
        "id": "9wJiHg1TXSiA"
      },
      "outputs": [],
      "source": [
        "parse_values(file3_lines[2])"
      ]
    },
    {
      "cell_type": "markdown",
      "metadata": {
        "id": "SAYdh_TwXSiA"
      },
      "source": [
        "Next, let's define a function `create_item_dict` that takes a list of values and a list of headers as inputs and returns a dictionary with the values associated with their respective headers as keys.\n"
      ]
    },
    {
      "cell_type": "code",
      "execution_count": null,
      "metadata": {
        "id": "F-Ftfw7iXSiA"
      },
      "outputs": [],
      "source": [
        "def create_item_dict(values, headers):\n",
        "    result = {}\n",
        "    for value, header in zip(values, headers):\n",
        "        result[header] = value\n",
        "    return result"
      ]
    },
    {
      "cell_type": "markdown",
      "metadata": {
        "id": "HA-kpppvXSiI"
      },
      "source": [
        "Can you figure out what the Python built-in function `zip` does? Try out an example, or [read the documentation](https://docs.python.org/3.3/library/functions.html#zip)."
      ]
    },
    {
      "cell_type": "code",
      "execution_count": 34,
      "metadata": {
        "colab": {
          "base_uri": "https://localhost:8080/"
        },
        "id": "clWwMdKkXSiJ",
        "outputId": "ef1564d1-3a22-4143-da67-3ef59ba4c811"
      },
      "outputs": [
        {
          "output_type": "stream",
          "name": "stdout",
          "text": [
            "(1, 'a')\n",
            "(2, 'b')\n",
            "(3, 'c')\n"
          ]
        }
      ],
      "source": [
        "for item in zip([1,2,3], ['a', 'b', 'c']):\n",
        "    print(item)"
      ]
    },
    {
      "cell_type": "markdown",
      "metadata": {
        "id": "FLE6WCPiXSiM"
      },
      "source": [
        "Let's try out `create_item_dict` with a couple of examples."
      ]
    },
    {
      "cell_type": "code",
      "execution_count": 35,
      "metadata": {
        "colab": {
          "base_uri": "https://localhost:8080/",
          "height": 36
        },
        "id": "Dcn7TD8XXSiN",
        "outputId": "3c395453-4ee6-4f6a-c942-f46c8a792a0c"
      },
      "outputs": [
        {
          "output_type": "execute_result",
          "data": {
            "text/plain": [
              "'45230,48,0.07,4300\\n'"
            ],
            "application/vnd.google.colaboratory.intrinsic+json": {
              "type": "string"
            }
          },
          "metadata": {},
          "execution_count": 35
        }
      ],
      "source": [
        "file3_lines[1]"
      ]
    },
    {
      "cell_type": "code",
      "execution_count": 36,
      "metadata": {
        "colab": {
          "base_uri": "https://localhost:8080/",
          "height": 190
        },
        "id": "mnMueGxSXSiN",
        "outputId": "05912391-eafc-4d4b-8a88-dc6dc33ce21e"
      },
      "outputs": [
        {
          "output_type": "error",
          "ename": "NameError",
          "evalue": "ignored",
          "traceback": [
            "\u001b[0;31m---------------------------------------------------------------------------\u001b[0m",
            "\u001b[0;31mNameError\u001b[0m                                 Traceback (most recent call last)",
            "\u001b[0;32m<ipython-input-36-310a1c54ad80>\u001b[0m in \u001b[0;36m<cell line: 2>\u001b[0;34m()\u001b[0m\n\u001b[1;32m      1\u001b[0m \u001b[0mvalues1\u001b[0m \u001b[0;34m=\u001b[0m \u001b[0mparse_values\u001b[0m\u001b[0;34m(\u001b[0m\u001b[0mfile3_lines\u001b[0m\u001b[0;34m[\u001b[0m\u001b[0;36m1\u001b[0m\u001b[0;34m]\u001b[0m\u001b[0;34m)\u001b[0m\u001b[0;34m\u001b[0m\u001b[0;34m\u001b[0m\u001b[0m\n\u001b[0;32m----> 2\u001b[0;31m \u001b[0mcreate_item_dict\u001b[0m\u001b[0;34m(\u001b[0m\u001b[0mvalues1\u001b[0m\u001b[0;34m,\u001b[0m \u001b[0mheaders\u001b[0m\u001b[0;34m)\u001b[0m\u001b[0;34m\u001b[0m\u001b[0;34m\u001b[0m\u001b[0m\n\u001b[0m",
            "\u001b[0;31mNameError\u001b[0m: name 'create_item_dict' is not defined"
          ]
        }
      ],
      "source": [
        "values1 = parse_values(file3_lines[1])\n",
        "create_item_dict(values1, headers)"
      ]
    },
    {
      "cell_type": "code",
      "execution_count": null,
      "metadata": {
        "id": "pF3ZQUaTXSiO"
      },
      "outputs": [],
      "source": [
        "file3_lines[2]"
      ]
    },
    {
      "cell_type": "code",
      "execution_count": null,
      "metadata": {
        "id": "8jstksn2XSiO"
      },
      "outputs": [],
      "source": [
        "values2 = parse_values(file3_lines[2])\n",
        "create_item_dict(values2, headers)"
      ]
    },
    {
      "cell_type": "markdown",
      "metadata": {
        "id": "npL-Nrl8XSiP"
      },
      "source": [
        "As expected, the values & header are combined to create a dictionary with the appropriate key-value pairs.\n",
        "\n",
        "We are now ready to put it all together and define the `read_csv` function."
      ]
    },
    {
      "cell_type": "code",
      "execution_count": null,
      "metadata": {
        "id": "qkaLXsMXXSiQ"
      },
      "outputs": [],
      "source": [
        "def read_csv(path):\n",
        "    result = []\n",
        "    # Open the file in read mode\n",
        "    with open(path, 'r') as f:\n",
        "        # Get a list of lines\n",
        "        lines = f.readlines()\n",
        "        # Parse the header\n",
        "        headers = parse_headers(lines[0])\n",
        "        # Loop over the remaining lines\n",
        "        for data_line in lines[1:]:\n",
        "            # Parse the values\n",
        "            values = parse_values(data_line)\n",
        "            # Create a dictionary using values & headers\n",
        "            item_dict = create_item_dict(values, headers)\n",
        "            # Add the dictionary to the result\n",
        "            result.append(item_dict)\n",
        "    return result"
      ]
    },
    {
      "cell_type": "markdown",
      "metadata": {
        "id": "ETtawSyGXSiQ"
      },
      "source": [
        "Let's try it out!"
      ]
    },
    {
      "cell_type": "code",
      "execution_count": null,
      "metadata": {
        "id": "_m032kynXSiR"
      },
      "outputs": [],
      "source": [
        "with open('./data/loans2.txt') as file2:\n",
        "    print(file2.read())"
      ]
    },
    {
      "cell_type": "code",
      "execution_count": 37,
      "metadata": {
        "colab": {
          "base_uri": "https://localhost:8080/",
          "height": 172
        },
        "id": "eFgVUyBvXSiR",
        "outputId": "bcc8e7ad-047f-4886-fe2a-d02d121112e5"
      },
      "outputs": [
        {
          "output_type": "error",
          "ename": "NameError",
          "evalue": "ignored",
          "traceback": [
            "\u001b[0;31m---------------------------------------------------------------------------\u001b[0m",
            "\u001b[0;31mNameError\u001b[0m                                 Traceback (most recent call last)",
            "\u001b[0;32m<ipython-input-37-6f9b8497b102>\u001b[0m in \u001b[0;36m<cell line: 1>\u001b[0;34m()\u001b[0m\n\u001b[0;32m----> 1\u001b[0;31m \u001b[0mread_csv\u001b[0m\u001b[0;34m(\u001b[0m\u001b[0;34m'./data/loans2.txt'\u001b[0m\u001b[0;34m)\u001b[0m\u001b[0;34m\u001b[0m\u001b[0;34m\u001b[0m\u001b[0m\n\u001b[0m",
            "\u001b[0;31mNameError\u001b[0m: name 'read_csv' is not defined"
          ]
        }
      ],
      "source": [
        "read_csv('./data/loans2.txt')"
      ]
    },
    {
      "cell_type": "markdown",
      "metadata": {
        "id": "JT-nPqNLXSiS"
      },
      "source": [
        "The file is read and converted to a list of dictionaries, as expected. The `read_csv` file is generic enough that it can parse any file in the CSV format, with any number of rows or columns. Here's the full code for `read_csv` along with the helper functions:"
      ]
    },
    {
      "cell_type": "code",
      "execution_count": null,
      "metadata": {
        "id": "SGe9d44pXSiS"
      },
      "outputs": [],
      "source": [
        "def parse_headers(header_line):\n",
        "    return header_line.strip().split(',')\n",
        "\n",
        "def parse_values(data_line):\n",
        "    values = []\n",
        "    for item in data_line.strip().split(','):\n",
        "        if item == '':\n",
        "            values.append(0.0)\n",
        "        else:\n",
        "            try:\n",
        "                values.append(float(item))\n",
        "            except ValueError:\n",
        "                values.append(item)\n",
        "    return values\n",
        "\n",
        "def create_item_dict(values, headers):\n",
        "    result = {}\n",
        "    for value, header in zip(values, headers):\n",
        "        result[header] = value\n",
        "    return result\n",
        "\n",
        "def read_csv(path):\n",
        "    result = []\n",
        "    # Open the file in read mode\n",
        "    with open(path, 'r') as f:\n",
        "        # Get a list of lines\n",
        "        lines = f.readlines()\n",
        "        # Parse the header\n",
        "        headers = parse_headers(lines[0])\n",
        "        # Loop over the remaining lines\n",
        "        for data_line in lines[1:]:\n",
        "            # Parse the values\n",
        "            values = parse_values(data_line)\n",
        "            # Create a dictionary using values & headers\n",
        "            item_dict = create_item_dict(values, headers)\n",
        "            # Add the dictionary to the result\n",
        "            result.append(item_dict)\n",
        "    return result"
      ]
    },
    {
      "cell_type": "markdown",
      "metadata": {
        "id": "t43odrWBXSiT"
      },
      "source": [
        "Try to create small, generic, and reusable functions whenever possible. They will likely be useful beyond just the problem at hand and save you significant effort in the future.\n",
        "\n",
        "In the [previous tutorial](https://jovian.ml/aakashns/python-functions-and-scope), we defined a function to calculate the equal monthly installments for a loan. Here's what it looked like:"
      ]
    },
    {
      "cell_type": "code",
      "execution_count": 38,
      "metadata": {
        "id": "rqSBF4eNXSiT"
      },
      "outputs": [],
      "source": [
        "import math\n",
        "\n",
        "def loan_emi(amount, duration, rate, down_payment=0):\n",
        "    \"\"\"Calculates the equal montly installment (EMI) for a loan.\n",
        "\n",
        "    Arguments:\n",
        "        amount - Total amount to be spent (loan + down payment)\n",
        "        duration - Duration of the loan (in months)\n",
        "        rate - Rate of interest (monthly)\n",
        "        down_payment (optional) - Optional intial payment (deducted from amount)\n",
        "    \"\"\"\n",
        "    loan_amount = amount - down_payment\n",
        "    try:\n",
        "        emi = loan_amount * rate * ((1+rate)**duration) / (((1+rate)**duration)-1)\n",
        "    except ZeroDivisionError:\n",
        "        emi = loan_amount / duration\n",
        "    emi = math.ceil(emi)\n",
        "    return emi"
      ]
    },
    {
      "cell_type": "markdown",
      "metadata": {
        "id": "5gXPhF3CXSiU"
      },
      "source": [
        "We can use this function to calculate EMIs for all the loans in a file."
      ]
    },
    {
      "cell_type": "code",
      "execution_count": 39,
      "metadata": {
        "colab": {
          "base_uri": "https://localhost:8080/",
          "height": 172
        },
        "id": "6KPCKQwTXSiU",
        "outputId": "b0647839-0a14-4425-fedb-13d965206592"
      },
      "outputs": [
        {
          "output_type": "error",
          "ename": "NameError",
          "evalue": "ignored",
          "traceback": [
            "\u001b[0;31m---------------------------------------------------------------------------\u001b[0m",
            "\u001b[0;31mNameError\u001b[0m                                 Traceback (most recent call last)",
            "\u001b[0;32m<ipython-input-39-74f823b81b39>\u001b[0m in \u001b[0;36m<cell line: 1>\u001b[0;34m()\u001b[0m\n\u001b[0;32m----> 1\u001b[0;31m \u001b[0mloans2\u001b[0m \u001b[0;34m=\u001b[0m \u001b[0mread_csv\u001b[0m\u001b[0;34m(\u001b[0m\u001b[0;34m'./data/loans2.txt'\u001b[0m\u001b[0;34m)\u001b[0m\u001b[0;34m\u001b[0m\u001b[0;34m\u001b[0m\u001b[0m\n\u001b[0m",
            "\u001b[0;31mNameError\u001b[0m: name 'read_csv' is not defined"
          ]
        }
      ],
      "source": [
        "loans2 = read_csv('./data/loans2.txt')"
      ]
    },
    {
      "cell_type": "code",
      "execution_count": null,
      "metadata": {
        "id": "Gud_zjnyXSiV"
      },
      "outputs": [],
      "source": [
        "loans2"
      ]
    },
    {
      "cell_type": "code",
      "execution_count": null,
      "metadata": {
        "id": "ATDqiNgwXSiV"
      },
      "outputs": [],
      "source": [
        "for loan in loans2:\n",
        "    loan['emi'] = loan_emi(loan['amount'],\n",
        "                           loan['duration'],\n",
        "                           loan['rate']/12, # the CSV contains yearly rates\n",
        "                           loan['down_payment'])"
      ]
    },
    {
      "cell_type": "code",
      "execution_count": null,
      "metadata": {
        "id": "aU_542b-XSiW"
      },
      "outputs": [],
      "source": [
        "loans2"
      ]
    },
    {
      "cell_type": "markdown",
      "metadata": {
        "id": "MQFDq13rXSiW"
      },
      "source": [
        "You can see that each loan now has a new key `emi`, which provides the EMI for the loan. We can extract this logic into a function so that we can use it for other files too."
      ]
    },
    {
      "cell_type": "code",
      "execution_count": 40,
      "metadata": {
        "id": "RG5MMsBWXSiX"
      },
      "outputs": [],
      "source": [
        "def compute_emis(loans):\n",
        "    for loan in loans:\n",
        "        loan['emi'] = loan_emi(\n",
        "            loan['amount'],\n",
        "            loan['duration'],\n",
        "            loan['rate']/12, # the CSV contains yearly rates\n",
        "            loan['down_payment'])"
      ]
    },
    {
      "cell_type": "markdown",
      "metadata": {
        "id": "4jAP6pT4XSiX"
      },
      "source": [
        "## Writing to files\n",
        "\n",
        "Now that we have performed some processing on the data, it would be good to write the results back to a CSV file. We can create/open a file in `w` mode using `open` and write to it using the `.write` method. The string `format` method will come in handy here."
      ]
    },
    {
      "cell_type": "code",
      "execution_count": 41,
      "metadata": {
        "colab": {
          "base_uri": "https://localhost:8080/",
          "height": 172
        },
        "id": "DIwCuUyEXSiX",
        "outputId": "67f0c37b-c9f2-42d9-f030-f7c45bc2d88e"
      },
      "outputs": [
        {
          "output_type": "error",
          "ename": "NameError",
          "evalue": "ignored",
          "traceback": [
            "\u001b[0;31m---------------------------------------------------------------------------\u001b[0m",
            "\u001b[0;31mNameError\u001b[0m                                 Traceback (most recent call last)",
            "\u001b[0;32m<ipython-input-41-74f823b81b39>\u001b[0m in \u001b[0;36m<cell line: 1>\u001b[0;34m()\u001b[0m\n\u001b[0;32m----> 1\u001b[0;31m \u001b[0mloans2\u001b[0m \u001b[0;34m=\u001b[0m \u001b[0mread_csv\u001b[0m\u001b[0;34m(\u001b[0m\u001b[0;34m'./data/loans2.txt'\u001b[0m\u001b[0;34m)\u001b[0m\u001b[0;34m\u001b[0m\u001b[0;34m\u001b[0m\u001b[0m\n\u001b[0m",
            "\u001b[0;31mNameError\u001b[0m: name 'read_csv' is not defined"
          ]
        }
      ],
      "source": [
        "loans2 = read_csv('./data/loans2.txt')"
      ]
    },
    {
      "cell_type": "code",
      "execution_count": null,
      "metadata": {
        "id": "r9V-xC4PXSiX"
      },
      "outputs": [],
      "source": [
        "compute_emis(loans2)"
      ]
    },
    {
      "cell_type": "code",
      "execution_count": 42,
      "metadata": {
        "colab": {
          "base_uri": "https://localhost:8080/",
          "height": 172
        },
        "id": "OoCI9L-wXSiY",
        "outputId": "9f62ba63-0b26-4d7d-c1e4-3b7481ca827d"
      },
      "outputs": [
        {
          "output_type": "error",
          "ename": "NameError",
          "evalue": "ignored",
          "traceback": [
            "\u001b[0;31m---------------------------------------------------------------------------\u001b[0m",
            "\u001b[0;31mNameError\u001b[0m                                 Traceback (most recent call last)",
            "\u001b[0;32m<ipython-input-42-4d5ababd1556>\u001b[0m in \u001b[0;36m<cell line: 1>\u001b[0;34m()\u001b[0m\n\u001b[0;32m----> 1\u001b[0;31m \u001b[0mloans2\u001b[0m\u001b[0;34m\u001b[0m\u001b[0;34m\u001b[0m\u001b[0m\n\u001b[0m",
            "\u001b[0;31mNameError\u001b[0m: name 'loans2' is not defined"
          ]
        }
      ],
      "source": [
        "loans2"
      ]
    },
    {
      "cell_type": "code",
      "execution_count": 43,
      "metadata": {
        "colab": {
          "base_uri": "https://localhost:8080/",
          "height": 246
        },
        "id": "WxjwgKf8XSiY",
        "outputId": "6bb9b556-a587-433c-b294-10a67d1e7610"
      },
      "outputs": [
        {
          "output_type": "error",
          "ename": "NameError",
          "evalue": "ignored",
          "traceback": [
            "\u001b[0;31m---------------------------------------------------------------------------\u001b[0m",
            "\u001b[0;31mNameError\u001b[0m                                 Traceback (most recent call last)",
            "\u001b[0;32m<ipython-input-43-a5a668937c29>\u001b[0m in \u001b[0;36m<cell line: 1>\u001b[0;34m()\u001b[0m\n\u001b[1;32m      1\u001b[0m \u001b[0;32mwith\u001b[0m \u001b[0mopen\u001b[0m\u001b[0;34m(\u001b[0m\u001b[0;34m'./data/emis2.txt'\u001b[0m\u001b[0;34m,\u001b[0m \u001b[0;34m'w'\u001b[0m\u001b[0;34m)\u001b[0m \u001b[0;32mas\u001b[0m \u001b[0mf\u001b[0m\u001b[0;34m:\u001b[0m\u001b[0;34m\u001b[0m\u001b[0;34m\u001b[0m\u001b[0m\n\u001b[0;32m----> 2\u001b[0;31m     \u001b[0;32mfor\u001b[0m \u001b[0mloan\u001b[0m \u001b[0;32min\u001b[0m \u001b[0mloans2\u001b[0m\u001b[0;34m:\u001b[0m\u001b[0;34m\u001b[0m\u001b[0;34m\u001b[0m\u001b[0m\n\u001b[0m\u001b[1;32m      3\u001b[0m         f.write('{},{},{},{},{}\\n'.format(\n\u001b[1;32m      4\u001b[0m             \u001b[0mloan\u001b[0m\u001b[0;34m[\u001b[0m\u001b[0;34m'amount'\u001b[0m\u001b[0;34m]\u001b[0m\u001b[0;34m,\u001b[0m\u001b[0;34m\u001b[0m\u001b[0;34m\u001b[0m\u001b[0m\n\u001b[1;32m      5\u001b[0m             \u001b[0mloan\u001b[0m\u001b[0;34m[\u001b[0m\u001b[0;34m'duration'\u001b[0m\u001b[0;34m]\u001b[0m\u001b[0;34m,\u001b[0m\u001b[0;34m\u001b[0m\u001b[0;34m\u001b[0m\u001b[0m\n",
            "\u001b[0;31mNameError\u001b[0m: name 'loans2' is not defined"
          ]
        }
      ],
      "source": [
        "with open('./data/emis2.txt', 'w') as f:\n",
        "    for loan in loans2:\n",
        "        f.write('{},{},{},{},{}\\n'.format(\n",
        "            loan['amount'],\n",
        "            loan['duration'],\n",
        "            loan['rate'],\n",
        "            loan['down_payment'],\n",
        "            loan['emi']))"
      ]
    },
    {
      "cell_type": "markdown",
      "metadata": {
        "id": "h4YMmB8xXSiY"
      },
      "source": [
        "Let's verify that the file was created and written to as expected."
      ]
    },
    {
      "cell_type": "code",
      "execution_count": null,
      "metadata": {
        "id": "nWUwcVwnXSiY"
      },
      "outputs": [],
      "source": [
        "os.listdir('data')"
      ]
    },
    {
      "cell_type": "code",
      "execution_count": 44,
      "metadata": {
        "colab": {
          "base_uri": "https://localhost:8080/"
        },
        "id": "jn7cVJ2MXSiZ",
        "outputId": "6f29cc0d-2e53-4c83-a9de-344ff804a35f"
      },
      "outputs": [
        {
          "output_type": "stream",
          "name": "stdout",
          "text": [
            "\n"
          ]
        }
      ],
      "source": [
        "with open('./data/emis2.txt', 'r') as f:\n",
        "    print(f.read())"
      ]
    },
    {
      "cell_type": "markdown",
      "metadata": {
        "id": "dTAeBZu8XSia"
      },
      "source": [
        "Great, looks like the loan details (along with the computed EMIs) were written into the file.\n",
        "\n",
        "Let's define a generic function `write_csv` which takes a list of dictionaries and writes it to a file in CSV format. We will also include the column headers in the first line."
      ]
    },
    {
      "cell_type": "code",
      "execution_count": 45,
      "metadata": {
        "id": "SFAnDJw0XSib"
      },
      "outputs": [],
      "source": [
        "def write_csv(items, path):\n",
        "    # Open the file in write mode\n",
        "    with open(path, 'w') as f:\n",
        "        # Return if there's nothing to write\n",
        "        if len(items) == 0:\n",
        "            return\n",
        "\n",
        "        # Write the headers in the first line\n",
        "        headers = list(items[0].keys())\n",
        "        f.write(','.join(headers) + '\\n')\n",
        "\n",
        "        # Write one item per line\n",
        "        for item in items:\n",
        "            values = []\n",
        "            for header in headers:\n",
        "                values.append(str(item.get(header, \"\")))\n",
        "            f.write(','.join(values) + \"\\n\")"
      ]
    },
    {
      "cell_type": "markdown",
      "metadata": {
        "id": "-ayedkdVXSic"
      },
      "source": [
        "Do you understand how the function works? If now, try executing each statement by line by line or a different cell to figure out how it works.\n",
        "\n",
        "Let's try it out!"
      ]
    },
    {
      "cell_type": "code",
      "execution_count": 46,
      "metadata": {
        "colab": {
          "base_uri": "https://localhost:8080/",
          "height": 172
        },
        "id": "_OY-ZgSOXSic",
        "outputId": "e8033354-72e5-43ab-8797-123d4e582a9d"
      },
      "outputs": [
        {
          "output_type": "error",
          "ename": "NameError",
          "evalue": "ignored",
          "traceback": [
            "\u001b[0;31m---------------------------------------------------------------------------\u001b[0m",
            "\u001b[0;31mNameError\u001b[0m                                 Traceback (most recent call last)",
            "\u001b[0;32m<ipython-input-46-3f58081db565>\u001b[0m in \u001b[0;36m<cell line: 1>\u001b[0;34m()\u001b[0m\n\u001b[0;32m----> 1\u001b[0;31m \u001b[0mloans3\u001b[0m \u001b[0;34m=\u001b[0m \u001b[0mread_csv\u001b[0m\u001b[0;34m(\u001b[0m\u001b[0;34m'./data/loans3.txt'\u001b[0m\u001b[0;34m)\u001b[0m\u001b[0;34m\u001b[0m\u001b[0;34m\u001b[0m\u001b[0m\n\u001b[0m",
            "\u001b[0;31mNameError\u001b[0m: name 'read_csv' is not defined"
          ]
        }
      ],
      "source": [
        "loans3 = read_csv('./data/loans3.txt')"
      ]
    },
    {
      "cell_type": "code",
      "execution_count": null,
      "metadata": {
        "id": "_eQuYxODXSic"
      },
      "outputs": [],
      "source": [
        "compute_emis(loans3)"
      ]
    },
    {
      "cell_type": "code",
      "execution_count": null,
      "metadata": {
        "id": "rzQd33kTXSic"
      },
      "outputs": [],
      "source": [
        "write_csv(loans3, './data/emis3.txt')"
      ]
    },
    {
      "cell_type": "code",
      "execution_count": 47,
      "metadata": {
        "colab": {
          "base_uri": "https://localhost:8080/",
          "height": 190
        },
        "id": "QJmOb5KMXSid",
        "outputId": "8320cc06-80ed-426c-dca7-45642da6dde7"
      },
      "outputs": [
        {
          "output_type": "error",
          "ename": "FileNotFoundError",
          "evalue": "ignored",
          "traceback": [
            "\u001b[0;31m---------------------------------------------------------------------------\u001b[0m",
            "\u001b[0;31mFileNotFoundError\u001b[0m                         Traceback (most recent call last)",
            "\u001b[0;32m<ipython-input-47-a925758f0938>\u001b[0m in \u001b[0;36m<cell line: 1>\u001b[0;34m()\u001b[0m\n\u001b[0;32m----> 1\u001b[0;31m \u001b[0;32mwith\u001b[0m \u001b[0mopen\u001b[0m\u001b[0;34m(\u001b[0m\u001b[0;34m'./data/emis3.txt'\u001b[0m\u001b[0;34m,\u001b[0m \u001b[0;34m'r'\u001b[0m\u001b[0;34m)\u001b[0m \u001b[0;32mas\u001b[0m \u001b[0mf\u001b[0m\u001b[0;34m:\u001b[0m\u001b[0;34m\u001b[0m\u001b[0;34m\u001b[0m\u001b[0m\n\u001b[0m\u001b[1;32m      2\u001b[0m     \u001b[0mprint\u001b[0m\u001b[0;34m(\u001b[0m\u001b[0mf\u001b[0m\u001b[0;34m.\u001b[0m\u001b[0mread\u001b[0m\u001b[0;34m(\u001b[0m\u001b[0;34m)\u001b[0m\u001b[0;34m)\u001b[0m\u001b[0;34m\u001b[0m\u001b[0;34m\u001b[0m\u001b[0m\n",
            "\u001b[0;31mFileNotFoundError\u001b[0m: [Errno 2] No such file or directory: './data/emis3.txt'"
          ]
        }
      ],
      "source": [
        "with open('./data/emis3.txt', 'r') as f:\n",
        "    print(f.read())"
      ]
    },
    {
      "cell_type": "markdown",
      "metadata": {
        "id": "UTcVsY6AXSid"
      },
      "source": [
        "With just four lines of code, we can now read each downloaded file, calculate the EMIs, and write the results back to new files:"
      ]
    },
    {
      "cell_type": "code",
      "execution_count": 48,
      "metadata": {
        "colab": {
          "base_uri": "https://localhost:8080/",
          "height": 227
        },
        "id": "m0OL-5IQXSid",
        "outputId": "13505761-dfdf-453f-9acb-2815957ef4be"
      },
      "outputs": [
        {
          "output_type": "error",
          "ename": "NameError",
          "evalue": "ignored",
          "traceback": [
            "\u001b[0;31m---------------------------------------------------------------------------\u001b[0m",
            "\u001b[0;31mNameError\u001b[0m                                 Traceback (most recent call last)",
            "\u001b[0;32m<ipython-input-48-0149601eebed>\u001b[0m in \u001b[0;36m<cell line: 1>\u001b[0;34m()\u001b[0m\n\u001b[1;32m      1\u001b[0m \u001b[0;32mfor\u001b[0m \u001b[0mi\u001b[0m \u001b[0;32min\u001b[0m \u001b[0mrange\u001b[0m\u001b[0;34m(\u001b[0m\u001b[0;36m1\u001b[0m\u001b[0;34m,\u001b[0m\u001b[0;36m4\u001b[0m\u001b[0;34m)\u001b[0m\u001b[0;34m:\u001b[0m\u001b[0;34m\u001b[0m\u001b[0;34m\u001b[0m\u001b[0m\n\u001b[0;32m----> 2\u001b[0;31m     \u001b[0mloans\u001b[0m \u001b[0;34m=\u001b[0m \u001b[0mread_csv\u001b[0m\u001b[0;34m(\u001b[0m\u001b[0;34m'./data/loans{}.txt'\u001b[0m\u001b[0;34m.\u001b[0m\u001b[0mformat\u001b[0m\u001b[0;34m(\u001b[0m\u001b[0mi\u001b[0m\u001b[0;34m)\u001b[0m\u001b[0;34m)\u001b[0m\u001b[0;34m\u001b[0m\u001b[0;34m\u001b[0m\u001b[0m\n\u001b[0m\u001b[1;32m      3\u001b[0m     \u001b[0mcompute_emis\u001b[0m\u001b[0;34m(\u001b[0m\u001b[0mloans\u001b[0m\u001b[0;34m)\u001b[0m\u001b[0;34m\u001b[0m\u001b[0;34m\u001b[0m\u001b[0m\n\u001b[1;32m      4\u001b[0m     \u001b[0mwrite_csv\u001b[0m\u001b[0;34m(\u001b[0m\u001b[0mloans\u001b[0m\u001b[0;34m,\u001b[0m \u001b[0;34m'./data/emis{}.txt'\u001b[0m\u001b[0;34m.\u001b[0m\u001b[0mformat\u001b[0m\u001b[0;34m(\u001b[0m\u001b[0mi\u001b[0m\u001b[0;34m)\u001b[0m\u001b[0;34m)\u001b[0m\u001b[0;34m\u001b[0m\u001b[0;34m\u001b[0m\u001b[0m\n",
            "\u001b[0;31mNameError\u001b[0m: name 'read_csv' is not defined"
          ]
        }
      ],
      "source": [
        "for i in range(1,4):\n",
        "    loans = read_csv('./data/loans{}.txt'.format(i))\n",
        "    compute_emis(loans)\n",
        "    write_csv(loans, './data/emis{}.txt'.format(i))"
      ]
    },
    {
      "cell_type": "code",
      "execution_count": null,
      "metadata": {
        "id": "6znZmzYZXSie"
      },
      "outputs": [],
      "source": [
        "os.listdir('./data')"
      ]
    },
    {
      "cell_type": "markdown",
      "metadata": {
        "id": "mYF0iL38XSie"
      },
      "source": [
        "Isn't that wonderful? Once all the functions are defined, we can calculate EMIs for thousands or even millions of loans across many files in seconds with just a few lines of code. Now we're starting to see the real power of using a programming language like Python for processing data!"
      ]
    },
    {
      "cell_type": "markdown",
      "metadata": {
        "id": "wVtw6TH0XSie"
      },
      "source": [
        "## Using Pandas to Read and Write CSVs\n",
        "\n",
        "There are some limitations to the `read_csv` and `write_csv` functions we've defined above:\n",
        "\n",
        "* The `read_csv` function fails to create a proper dictionary if any of the values in the CSV files contains commas\n",
        "* The `write_csv` function fails to create a proper CSV if any of the values to be written contains commas\n",
        "\n",
        "When a value in a CSV file contains a comma (`,`), the value is generally placed within double quotes. Double quotes (`\"`) in values are converted into two double quotes (`\"\"`). Here's an example:\n",
        "\n",
        "```\n",
        "title,description\n",
        "Fast & Furious,\"A movie, a race, a franchise\"\n",
        "The Dark Knight,\"Gotham, the \"\"Batman\"\", and the Joker\"\n",
        "Memento,A guy forgets everything every 15 minutes\n",
        "\n",
        "```\n",
        "\n",
        "Let's try it out."
      ]
    },
    {
      "cell_type": "code",
      "execution_count": 49,
      "metadata": {
        "id": "O9zhCA9RXSie"
      },
      "outputs": [],
      "source": [
        "movies_url = \"https://gist.githubusercontent.com/aakashns/afee0a407d44bbc02321993548021af9/raw/6d7473f0ac4c54aca65fc4b06ed831b8a4840190/movies.csv\""
      ]
    },
    {
      "cell_type": "code",
      "execution_count": 50,
      "metadata": {
        "colab": {
          "base_uri": "https://localhost:8080/"
        },
        "id": "CtPtc_2hXSif",
        "outputId": "49f6b7f4-873b-4667-9488-9d8a1cb8cf5e"
      },
      "outputs": [
        {
          "output_type": "execute_result",
          "data": {
            "text/plain": [
              "('data/movies.csv', <http.client.HTTPMessage at 0x7f2d1d5cfa90>)"
            ]
          },
          "metadata": {},
          "execution_count": 50
        }
      ],
      "source": [
        "urlretrieve(movies_url, 'data/movies.csv')"
      ]
    },
    {
      "cell_type": "code",
      "execution_count": 51,
      "metadata": {
        "colab": {
          "base_uri": "https://localhost:8080/",
          "height": 172
        },
        "id": "PJKhscHDXSif",
        "outputId": "c11bb715-7e56-4643-87aa-fce931b336e4"
      },
      "outputs": [
        {
          "output_type": "error",
          "ename": "NameError",
          "evalue": "ignored",
          "traceback": [
            "\u001b[0;31m---------------------------------------------------------------------------\u001b[0m",
            "\u001b[0;31mNameError\u001b[0m                                 Traceback (most recent call last)",
            "\u001b[0;32m<ipython-input-51-93139000a697>\u001b[0m in \u001b[0;36m<cell line: 1>\u001b[0;34m()\u001b[0m\n\u001b[0;32m----> 1\u001b[0;31m \u001b[0mmovies\u001b[0m \u001b[0;34m=\u001b[0m \u001b[0mread_csv\u001b[0m\u001b[0;34m(\u001b[0m\u001b[0;34m'data/movies.csv'\u001b[0m\u001b[0;34m)\u001b[0m\u001b[0;34m\u001b[0m\u001b[0;34m\u001b[0m\u001b[0m\n\u001b[0m",
            "\u001b[0;31mNameError\u001b[0m: name 'read_csv' is not defined"
          ]
        }
      ],
      "source": [
        "movies = read_csv('data/movies.csv')"
      ]
    },
    {
      "cell_type": "code",
      "execution_count": null,
      "metadata": {
        "id": "zQhE6nTaXSif"
      },
      "outputs": [],
      "source": [
        "movies"
      ]
    },
    {
      "cell_type": "markdown",
      "metadata": {
        "id": "EdiIIVluXSif"
      },
      "source": [
        "As you can seen above, the movie descriptions weren't parsed properly.\n",
        "\n",
        "To read this CSV properly, we can use the `pandas` library."
      ]
    },
    {
      "cell_type": "code",
      "execution_count": 52,
      "metadata": {
        "colab": {
          "base_uri": "https://localhost:8080/"
        },
        "id": "6_XAlZUeXSig",
        "outputId": "7c454951-0e7f-488c-df54-76465cca8f2b"
      },
      "outputs": [
        {
          "output_type": "stream",
          "name": "stdout",
          "text": [
            "\u001b[2K     \u001b[90m━━━━━━━━━━━━━━━━━━━━━━━━━━━━━━━━━━━━━━━━\u001b[0m \u001b[32m12.3/12.3 MB\u001b[0m \u001b[31m38.3 MB/s\u001b[0m eta \u001b[36m0:00:00\u001b[0m\n",
            "\u001b[2K     \u001b[90m━━━━━━━━━━━━━━━━━━━━━━━━━━━━━━━━━━━━━━\u001b[0m \u001b[32m341.8/341.8 kB\u001b[0m \u001b[31m27.1 MB/s\u001b[0m eta \u001b[36m0:00:00\u001b[0m\n",
            "\u001b[?25h\u001b[31mERROR: pip's dependency resolver does not currently take into account all the packages that are installed. This behaviour is the source of the following dependency conflicts.\n",
            "google-colab 1.0.0 requires pandas==1.5.3, but you have pandas 2.0.3 which is incompatible.\u001b[0m\u001b[31m\n",
            "\u001b[0m"
          ]
        }
      ],
      "source": [
        "!pip install pandas --upgrade --quiet"
      ]
    },
    {
      "cell_type": "code",
      "execution_count": 53,
      "metadata": {
        "id": "RjsTQuvmXSig"
      },
      "outputs": [],
      "source": [
        "import pandas as pd"
      ]
    },
    {
      "cell_type": "markdown",
      "metadata": {
        "id": "BuIpBYAtXSij"
      },
      "source": [
        "The `pd.read_csv` function can be used to read the CSV file into a pandas data frame: a spreadsheet-like object for analyzing and processing data. We'll learn more about data frames in a future lesson."
      ]
    },
    {
      "cell_type": "code",
      "execution_count": 54,
      "metadata": {
        "id": "XeDPdwxDXSij"
      },
      "outputs": [],
      "source": [
        "movies_dataframe = pd.read_csv('data/movies.csv')"
      ]
    },
    {
      "cell_type": "code",
      "execution_count": 55,
      "metadata": {
        "colab": {
          "base_uri": "https://localhost:8080/",
          "height": 143
        },
        "id": "YFWXe_oYXSik",
        "outputId": "e8726372-ccbd-47aa-985c-cf385424b42a"
      },
      "outputs": [
        {
          "output_type": "execute_result",
          "data": {
            "text/plain": [
              "             title                                description\n",
              "0   Fast & Furious               A movie, a race, a franchise\n",
              "1  The Dark Knight        Gotham, the \"Batman\", and the Joker\n",
              "2          Memento  A guy forgets everything every 15 minutes"
            ],
            "text/html": [
              "\n",
              "  <div id=\"df-43ff1253-86ba-4cb5-8b94-f3a89c01e024\">\n",
              "    <div class=\"colab-df-container\">\n",
              "      <div>\n",
              "<style scoped>\n",
              "    .dataframe tbody tr th:only-of-type {\n",
              "        vertical-align: middle;\n",
              "    }\n",
              "\n",
              "    .dataframe tbody tr th {\n",
              "        vertical-align: top;\n",
              "    }\n",
              "\n",
              "    .dataframe thead th {\n",
              "        text-align: right;\n",
              "    }\n",
              "</style>\n",
              "<table border=\"1\" class=\"dataframe\">\n",
              "  <thead>\n",
              "    <tr style=\"text-align: right;\">\n",
              "      <th></th>\n",
              "      <th>title</th>\n",
              "      <th>description</th>\n",
              "    </tr>\n",
              "  </thead>\n",
              "  <tbody>\n",
              "    <tr>\n",
              "      <th>0</th>\n",
              "      <td>Fast &amp; Furious</td>\n",
              "      <td>A movie, a race, a franchise</td>\n",
              "    </tr>\n",
              "    <tr>\n",
              "      <th>1</th>\n",
              "      <td>The Dark Knight</td>\n",
              "      <td>Gotham, the \"Batman\", and the Joker</td>\n",
              "    </tr>\n",
              "    <tr>\n",
              "      <th>2</th>\n",
              "      <td>Memento</td>\n",
              "      <td>A guy forgets everything every 15 minutes</td>\n",
              "    </tr>\n",
              "  </tbody>\n",
              "</table>\n",
              "</div>\n",
              "      <button class=\"colab-df-convert\" onclick=\"convertToInteractive('df-43ff1253-86ba-4cb5-8b94-f3a89c01e024')\"\n",
              "              title=\"Convert this dataframe to an interactive table.\"\n",
              "              style=\"display:none;\">\n",
              "        \n",
              "  <svg xmlns=\"http://www.w3.org/2000/svg\" height=\"24px\"viewBox=\"0 0 24 24\"\n",
              "       width=\"24px\">\n",
              "    <path d=\"M0 0h24v24H0V0z\" fill=\"none\"/>\n",
              "    <path d=\"M18.56 5.44l.94 2.06.94-2.06 2.06-.94-2.06-.94-.94-2.06-.94 2.06-2.06.94zm-11 1L8.5 8.5l.94-2.06 2.06-.94-2.06-.94L8.5 2.5l-.94 2.06-2.06.94zm10 10l.94 2.06.94-2.06 2.06-.94-2.06-.94-.94-2.06-.94 2.06-2.06.94z\"/><path d=\"M17.41 7.96l-1.37-1.37c-.4-.4-.92-.59-1.43-.59-.52 0-1.04.2-1.43.59L10.3 9.45l-7.72 7.72c-.78.78-.78 2.05 0 2.83L4 21.41c.39.39.9.59 1.41.59.51 0 1.02-.2 1.41-.59l7.78-7.78 2.81-2.81c.8-.78.8-2.07 0-2.86zM5.41 20L4 18.59l7.72-7.72 1.47 1.35L5.41 20z\"/>\n",
              "  </svg>\n",
              "      </button>\n",
              "      \n",
              "  <style>\n",
              "    .colab-df-container {\n",
              "      display:flex;\n",
              "      flex-wrap:wrap;\n",
              "      gap: 12px;\n",
              "    }\n",
              "\n",
              "    .colab-df-convert {\n",
              "      background-color: #E8F0FE;\n",
              "      border: none;\n",
              "      border-radius: 50%;\n",
              "      cursor: pointer;\n",
              "      display: none;\n",
              "      fill: #1967D2;\n",
              "      height: 32px;\n",
              "      padding: 0 0 0 0;\n",
              "      width: 32px;\n",
              "    }\n",
              "\n",
              "    .colab-df-convert:hover {\n",
              "      background-color: #E2EBFA;\n",
              "      box-shadow: 0px 1px 2px rgba(60, 64, 67, 0.3), 0px 1px 3px 1px rgba(60, 64, 67, 0.15);\n",
              "      fill: #174EA6;\n",
              "    }\n",
              "\n",
              "    [theme=dark] .colab-df-convert {\n",
              "      background-color: #3B4455;\n",
              "      fill: #D2E3FC;\n",
              "    }\n",
              "\n",
              "    [theme=dark] .colab-df-convert:hover {\n",
              "      background-color: #434B5C;\n",
              "      box-shadow: 0px 1px 3px 1px rgba(0, 0, 0, 0.15);\n",
              "      filter: drop-shadow(0px 1px 2px rgba(0, 0, 0, 0.3));\n",
              "      fill: #FFFFFF;\n",
              "    }\n",
              "  </style>\n",
              "\n",
              "      <script>\n",
              "        const buttonEl =\n",
              "          document.querySelector('#df-43ff1253-86ba-4cb5-8b94-f3a89c01e024 button.colab-df-convert');\n",
              "        buttonEl.style.display =\n",
              "          google.colab.kernel.accessAllowed ? 'block' : 'none';\n",
              "\n",
              "        async function convertToInteractive(key) {\n",
              "          const element = document.querySelector('#df-43ff1253-86ba-4cb5-8b94-f3a89c01e024');\n",
              "          const dataTable =\n",
              "            await google.colab.kernel.invokeFunction('convertToInteractive',\n",
              "                                                     [key], {});\n",
              "          if (!dataTable) return;\n",
              "\n",
              "          const docLinkHtml = 'Like what you see? Visit the ' +\n",
              "            '<a target=\"_blank\" href=https://colab.research.google.com/notebooks/data_table.ipynb>data table notebook</a>'\n",
              "            + ' to learn more about interactive tables.';\n",
              "          element.innerHTML = '';\n",
              "          dataTable['output_type'] = 'display_data';\n",
              "          await google.colab.output.renderOutput(dataTable, element);\n",
              "          const docLink = document.createElement('div');\n",
              "          docLink.innerHTML = docLinkHtml;\n",
              "          element.appendChild(docLink);\n",
              "        }\n",
              "      </script>\n",
              "    </div>\n",
              "  </div>\n",
              "  "
            ]
          },
          "metadata": {},
          "execution_count": 55
        }
      ],
      "source": [
        "movies_dataframe"
      ]
    },
    {
      "cell_type": "markdown",
      "metadata": {
        "id": "K7E531UVXSik"
      },
      "source": [
        "A dataframe can be converted into a list of dictionaries using the `to_dict` method."
      ]
    },
    {
      "cell_type": "code",
      "execution_count": 56,
      "metadata": {
        "id": "fIkWZqh-XSik"
      },
      "outputs": [],
      "source": [
        "movies = movies_dataframe.to_dict('records')"
      ]
    },
    {
      "cell_type": "code",
      "execution_count": 57,
      "metadata": {
        "colab": {
          "base_uri": "https://localhost:8080/"
        },
        "id": "3fnWQg7sXSil",
        "outputId": "c5470788-ef25-4387-894b-16cd7b752bc1"
      },
      "outputs": [
        {
          "output_type": "execute_result",
          "data": {
            "text/plain": [
              "[{'title': 'Fast & Furious', 'description': 'A movie, a race, a franchise'},\n",
              " {'title': 'The Dark Knight',\n",
              "  'description': 'Gotham, the \"Batman\", and the Joker'},\n",
              " {'title': 'Memento',\n",
              "  'description': 'A guy forgets everything every 15 minutes'}]"
            ]
          },
          "metadata": {},
          "execution_count": 57
        }
      ],
      "source": [
        "movies"
      ]
    },
    {
      "cell_type": "markdown",
      "metadata": {
        "id": "qCLkHP3AXSil"
      },
      "source": [
        "If you don't pass the arguments `records`, you get a dictionary of lists instead."
      ]
    },
    {
      "cell_type": "code",
      "execution_count": 58,
      "metadata": {
        "id": "UiNm3bIoXSim"
      },
      "outputs": [],
      "source": [
        "movies_dict = movies_dataframe.to_dict()"
      ]
    },
    {
      "cell_type": "code",
      "execution_count": 59,
      "metadata": {
        "colab": {
          "base_uri": "https://localhost:8080/"
        },
        "id": "z6GZZDy4XSim",
        "outputId": "b6dc7fa2-e454-4f1f-a3bc-dd634782c3da"
      },
      "outputs": [
        {
          "output_type": "execute_result",
          "data": {
            "text/plain": [
              "{'title': {0: 'Fast & Furious', 1: 'The Dark Knight', 2: 'Memento'},\n",
              " 'description': {0: 'A movie, a race, a franchise',\n",
              "  1: 'Gotham, the \"Batman\", and the Joker',\n",
              "  2: 'A guy forgets everything every 15 minutes'}}"
            ]
          },
          "metadata": {},
          "execution_count": 59
        }
      ],
      "source": [
        "movies_dict"
      ]
    },
    {
      "cell_type": "markdown",
      "metadata": {
        "id": "zXeOfolkXSin"
      },
      "source": [
        "Let's try using the `write_csv` function to write the data in `movies` back to a CSV file."
      ]
    },
    {
      "cell_type": "code",
      "execution_count": 60,
      "metadata": {
        "id": "OkNi3u60XSin"
      },
      "outputs": [],
      "source": [
        "write_csv(movies, 'movies2.csv')"
      ]
    },
    {
      "cell_type": "code",
      "execution_count": 61,
      "metadata": {
        "colab": {
          "base_uri": "https://localhost:8080/"
        },
        "id": "mbN9hI7nXSin",
        "outputId": "dc321cb1-aedc-4e36-b6fd-1cfdcfb26e46"
      },
      "outputs": [
        {
          "output_type": "stream",
          "name": "stdout",
          "text": [
            "title,description\n",
            "Fast & Furious,A movie, a race, a franchise\n",
            "The Dark Knight,Gotham, the \"Batman\", and the Joker\n",
            "Memento,A guy forgets everything every 15 minutes\n"
          ]
        }
      ],
      "source": [
        "!head movies2.csv"
      ]
    },
    {
      "cell_type": "markdown",
      "metadata": {
        "id": "IFeMxKATXSio"
      },
      "source": [
        "As you can see above, the CSV file is not formatted properly. This can be verified by attempting to read the file using `pd.read_csv`."
      ]
    },
    {
      "cell_type": "code",
      "execution_count": 62,
      "metadata": {
        "colab": {
          "base_uri": "https://localhost:8080/",
          "height": 143
        },
        "id": "ZUaldd5MXSio",
        "outputId": "bb35915e-18e4-495c-e3bc-8b73328a091b"
      },
      "outputs": [
        {
          "output_type": "execute_result",
          "data": {
            "text/plain": [
              "                                                                   title  \\\n",
              "Fast & Furious  A movie                                           a race   \n",
              "The Dark Knight Gotham                                      the \"Batman\"   \n",
              "Memento         A guy forgets everything every 15 minutes            NaN   \n",
              "\n",
              "                                                              description  \n",
              "Fast & Furious  A movie                                       a franchise  \n",
              "The Dark Knight Gotham                                      and the Joker  \n",
              "Memento         A guy forgets everything every 15 minutes             NaN  "
            ],
            "text/html": [
              "\n",
              "  <div id=\"df-601a2f7c-4fff-42df-a571-e1a5db1895ee\">\n",
              "    <div class=\"colab-df-container\">\n",
              "      <div>\n",
              "<style scoped>\n",
              "    .dataframe tbody tr th:only-of-type {\n",
              "        vertical-align: middle;\n",
              "    }\n",
              "\n",
              "    .dataframe tbody tr th {\n",
              "        vertical-align: top;\n",
              "    }\n",
              "\n",
              "    .dataframe thead th {\n",
              "        text-align: right;\n",
              "    }\n",
              "</style>\n",
              "<table border=\"1\" class=\"dataframe\">\n",
              "  <thead>\n",
              "    <tr style=\"text-align: right;\">\n",
              "      <th></th>\n",
              "      <th></th>\n",
              "      <th>title</th>\n",
              "      <th>description</th>\n",
              "    </tr>\n",
              "  </thead>\n",
              "  <tbody>\n",
              "    <tr>\n",
              "      <th>Fast &amp; Furious</th>\n",
              "      <th>A movie</th>\n",
              "      <td>a race</td>\n",
              "      <td>a franchise</td>\n",
              "    </tr>\n",
              "    <tr>\n",
              "      <th>The Dark Knight</th>\n",
              "      <th>Gotham</th>\n",
              "      <td>the \"Batman\"</td>\n",
              "      <td>and the Joker</td>\n",
              "    </tr>\n",
              "    <tr>\n",
              "      <th>Memento</th>\n",
              "      <th>A guy forgets everything every 15 minutes</th>\n",
              "      <td>NaN</td>\n",
              "      <td>NaN</td>\n",
              "    </tr>\n",
              "  </tbody>\n",
              "</table>\n",
              "</div>\n",
              "      <button class=\"colab-df-convert\" onclick=\"convertToInteractive('df-601a2f7c-4fff-42df-a571-e1a5db1895ee')\"\n",
              "              title=\"Convert this dataframe to an interactive table.\"\n",
              "              style=\"display:none;\">\n",
              "        \n",
              "  <svg xmlns=\"http://www.w3.org/2000/svg\" height=\"24px\"viewBox=\"0 0 24 24\"\n",
              "       width=\"24px\">\n",
              "    <path d=\"M0 0h24v24H0V0z\" fill=\"none\"/>\n",
              "    <path d=\"M18.56 5.44l.94 2.06.94-2.06 2.06-.94-2.06-.94-.94-2.06-.94 2.06-2.06.94zm-11 1L8.5 8.5l.94-2.06 2.06-.94-2.06-.94L8.5 2.5l-.94 2.06-2.06.94zm10 10l.94 2.06.94-2.06 2.06-.94-2.06-.94-.94-2.06-.94 2.06-2.06.94z\"/><path d=\"M17.41 7.96l-1.37-1.37c-.4-.4-.92-.59-1.43-.59-.52 0-1.04.2-1.43.59L10.3 9.45l-7.72 7.72c-.78.78-.78 2.05 0 2.83L4 21.41c.39.39.9.59 1.41.59.51 0 1.02-.2 1.41-.59l7.78-7.78 2.81-2.81c.8-.78.8-2.07 0-2.86zM5.41 20L4 18.59l7.72-7.72 1.47 1.35L5.41 20z\"/>\n",
              "  </svg>\n",
              "      </button>\n",
              "      \n",
              "  <style>\n",
              "    .colab-df-container {\n",
              "      display:flex;\n",
              "      flex-wrap:wrap;\n",
              "      gap: 12px;\n",
              "    }\n",
              "\n",
              "    .colab-df-convert {\n",
              "      background-color: #E8F0FE;\n",
              "      border: none;\n",
              "      border-radius: 50%;\n",
              "      cursor: pointer;\n",
              "      display: none;\n",
              "      fill: #1967D2;\n",
              "      height: 32px;\n",
              "      padding: 0 0 0 0;\n",
              "      width: 32px;\n",
              "    }\n",
              "\n",
              "    .colab-df-convert:hover {\n",
              "      background-color: #E2EBFA;\n",
              "      box-shadow: 0px 1px 2px rgba(60, 64, 67, 0.3), 0px 1px 3px 1px rgba(60, 64, 67, 0.15);\n",
              "      fill: #174EA6;\n",
              "    }\n",
              "\n",
              "    [theme=dark] .colab-df-convert {\n",
              "      background-color: #3B4455;\n",
              "      fill: #D2E3FC;\n",
              "    }\n",
              "\n",
              "    [theme=dark] .colab-df-convert:hover {\n",
              "      background-color: #434B5C;\n",
              "      box-shadow: 0px 1px 3px 1px rgba(0, 0, 0, 0.15);\n",
              "      filter: drop-shadow(0px 1px 2px rgba(0, 0, 0, 0.3));\n",
              "      fill: #FFFFFF;\n",
              "    }\n",
              "  </style>\n",
              "\n",
              "      <script>\n",
              "        const buttonEl =\n",
              "          document.querySelector('#df-601a2f7c-4fff-42df-a571-e1a5db1895ee button.colab-df-convert');\n",
              "        buttonEl.style.display =\n",
              "          google.colab.kernel.accessAllowed ? 'block' : 'none';\n",
              "\n",
              "        async function convertToInteractive(key) {\n",
              "          const element = document.querySelector('#df-601a2f7c-4fff-42df-a571-e1a5db1895ee');\n",
              "          const dataTable =\n",
              "            await google.colab.kernel.invokeFunction('convertToInteractive',\n",
              "                                                     [key], {});\n",
              "          if (!dataTable) return;\n",
              "\n",
              "          const docLinkHtml = 'Like what you see? Visit the ' +\n",
              "            '<a target=\"_blank\" href=https://colab.research.google.com/notebooks/data_table.ipynb>data table notebook</a>'\n",
              "            + ' to learn more about interactive tables.';\n",
              "          element.innerHTML = '';\n",
              "          dataTable['output_type'] = 'display_data';\n",
              "          await google.colab.output.renderOutput(dataTable, element);\n",
              "          const docLink = document.createElement('div');\n",
              "          docLink.innerHTML = docLinkHtml;\n",
              "          element.appendChild(docLink);\n",
              "        }\n",
              "      </script>\n",
              "    </div>\n",
              "  </div>\n",
              "  "
            ]
          },
          "metadata": {},
          "execution_count": 62
        }
      ],
      "source": [
        "pd.read_csv('movies2.csv')"
      ]
    },
    {
      "cell_type": "markdown",
      "metadata": {
        "id": "vS1H6NxCXSio"
      },
      "source": [
        "To convert a list of dictionaries into a dataframe, you can use the `pd.DataFrame` constructor."
      ]
    },
    {
      "cell_type": "code",
      "execution_count": 63,
      "metadata": {
        "id": "eN9S-Z2GXSip"
      },
      "outputs": [],
      "source": [
        "df2 = pd.DataFrame(movies)"
      ]
    },
    {
      "cell_type": "code",
      "execution_count": 64,
      "metadata": {
        "colab": {
          "base_uri": "https://localhost:8080/",
          "height": 143
        },
        "id": "ZxGeevt6XSip",
        "outputId": "8ca8159e-0adf-4a41-c0d2-1a601c9ddf8d"
      },
      "outputs": [
        {
          "output_type": "execute_result",
          "data": {
            "text/plain": [
              "             title                                description\n",
              "0   Fast & Furious               A movie, a race, a franchise\n",
              "1  The Dark Knight        Gotham, the \"Batman\", and the Joker\n",
              "2          Memento  A guy forgets everything every 15 minutes"
            ],
            "text/html": [
              "\n",
              "  <div id=\"df-98c69129-24b4-42b2-9733-3212a59a9158\">\n",
              "    <div class=\"colab-df-container\">\n",
              "      <div>\n",
              "<style scoped>\n",
              "    .dataframe tbody tr th:only-of-type {\n",
              "        vertical-align: middle;\n",
              "    }\n",
              "\n",
              "    .dataframe tbody tr th {\n",
              "        vertical-align: top;\n",
              "    }\n",
              "\n",
              "    .dataframe thead th {\n",
              "        text-align: right;\n",
              "    }\n",
              "</style>\n",
              "<table border=\"1\" class=\"dataframe\">\n",
              "  <thead>\n",
              "    <tr style=\"text-align: right;\">\n",
              "      <th></th>\n",
              "      <th>title</th>\n",
              "      <th>description</th>\n",
              "    </tr>\n",
              "  </thead>\n",
              "  <tbody>\n",
              "    <tr>\n",
              "      <th>0</th>\n",
              "      <td>Fast &amp; Furious</td>\n",
              "      <td>A movie, a race, a franchise</td>\n",
              "    </tr>\n",
              "    <tr>\n",
              "      <th>1</th>\n",
              "      <td>The Dark Knight</td>\n",
              "      <td>Gotham, the \"Batman\", and the Joker</td>\n",
              "    </tr>\n",
              "    <tr>\n",
              "      <th>2</th>\n",
              "      <td>Memento</td>\n",
              "      <td>A guy forgets everything every 15 minutes</td>\n",
              "    </tr>\n",
              "  </tbody>\n",
              "</table>\n",
              "</div>\n",
              "      <button class=\"colab-df-convert\" onclick=\"convertToInteractive('df-98c69129-24b4-42b2-9733-3212a59a9158')\"\n",
              "              title=\"Convert this dataframe to an interactive table.\"\n",
              "              style=\"display:none;\">\n",
              "        \n",
              "  <svg xmlns=\"http://www.w3.org/2000/svg\" height=\"24px\"viewBox=\"0 0 24 24\"\n",
              "       width=\"24px\">\n",
              "    <path d=\"M0 0h24v24H0V0z\" fill=\"none\"/>\n",
              "    <path d=\"M18.56 5.44l.94 2.06.94-2.06 2.06-.94-2.06-.94-.94-2.06-.94 2.06-2.06.94zm-11 1L8.5 8.5l.94-2.06 2.06-.94-2.06-.94L8.5 2.5l-.94 2.06-2.06.94zm10 10l.94 2.06.94-2.06 2.06-.94-2.06-.94-.94-2.06-.94 2.06-2.06.94z\"/><path d=\"M17.41 7.96l-1.37-1.37c-.4-.4-.92-.59-1.43-.59-.52 0-1.04.2-1.43.59L10.3 9.45l-7.72 7.72c-.78.78-.78 2.05 0 2.83L4 21.41c.39.39.9.59 1.41.59.51 0 1.02-.2 1.41-.59l7.78-7.78 2.81-2.81c.8-.78.8-2.07 0-2.86zM5.41 20L4 18.59l7.72-7.72 1.47 1.35L5.41 20z\"/>\n",
              "  </svg>\n",
              "      </button>\n",
              "      \n",
              "  <style>\n",
              "    .colab-df-container {\n",
              "      display:flex;\n",
              "      flex-wrap:wrap;\n",
              "      gap: 12px;\n",
              "    }\n",
              "\n",
              "    .colab-df-convert {\n",
              "      background-color: #E8F0FE;\n",
              "      border: none;\n",
              "      border-radius: 50%;\n",
              "      cursor: pointer;\n",
              "      display: none;\n",
              "      fill: #1967D2;\n",
              "      height: 32px;\n",
              "      padding: 0 0 0 0;\n",
              "      width: 32px;\n",
              "    }\n",
              "\n",
              "    .colab-df-convert:hover {\n",
              "      background-color: #E2EBFA;\n",
              "      box-shadow: 0px 1px 2px rgba(60, 64, 67, 0.3), 0px 1px 3px 1px rgba(60, 64, 67, 0.15);\n",
              "      fill: #174EA6;\n",
              "    }\n",
              "\n",
              "    [theme=dark] .colab-df-convert {\n",
              "      background-color: #3B4455;\n",
              "      fill: #D2E3FC;\n",
              "    }\n",
              "\n",
              "    [theme=dark] .colab-df-convert:hover {\n",
              "      background-color: #434B5C;\n",
              "      box-shadow: 0px 1px 3px 1px rgba(0, 0, 0, 0.15);\n",
              "      filter: drop-shadow(0px 1px 2px rgba(0, 0, 0, 0.3));\n",
              "      fill: #FFFFFF;\n",
              "    }\n",
              "  </style>\n",
              "\n",
              "      <script>\n",
              "        const buttonEl =\n",
              "          document.querySelector('#df-98c69129-24b4-42b2-9733-3212a59a9158 button.colab-df-convert');\n",
              "        buttonEl.style.display =\n",
              "          google.colab.kernel.accessAllowed ? 'block' : 'none';\n",
              "\n",
              "        async function convertToInteractive(key) {\n",
              "          const element = document.querySelector('#df-98c69129-24b4-42b2-9733-3212a59a9158');\n",
              "          const dataTable =\n",
              "            await google.colab.kernel.invokeFunction('convertToInteractive',\n",
              "                                                     [key], {});\n",
              "          if (!dataTable) return;\n",
              "\n",
              "          const docLinkHtml = 'Like what you see? Visit the ' +\n",
              "            '<a target=\"_blank\" href=https://colab.research.google.com/notebooks/data_table.ipynb>data table notebook</a>'\n",
              "            + ' to learn more about interactive tables.';\n",
              "          element.innerHTML = '';\n",
              "          dataTable['output_type'] = 'display_data';\n",
              "          await google.colab.output.renderOutput(dataTable, element);\n",
              "          const docLink = document.createElement('div');\n",
              "          docLink.innerHTML = docLinkHtml;\n",
              "          element.appendChild(docLink);\n",
              "        }\n",
              "      </script>\n",
              "    </div>\n",
              "  </div>\n",
              "  "
            ]
          },
          "metadata": {},
          "execution_count": 64
        }
      ],
      "source": [
        "df2"
      ]
    },
    {
      "cell_type": "markdown",
      "metadata": {
        "id": "6c9hDXHZXSip"
      },
      "source": [
        "It can now be written to a CSV file using the `.to_csv` method of a dataframe."
      ]
    },
    {
      "cell_type": "code",
      "execution_count": 65,
      "metadata": {
        "id": "1hfJ_hPNXSip"
      },
      "outputs": [],
      "source": [
        "df2.to_csv('movies3.csv', index=None)"
      ]
    },
    {
      "cell_type": "markdown",
      "metadata": {
        "id": "-DHFfmI6XSiq"
      },
      "source": [
        "Can you guess what the argument `index=None` does? Try removing it and observing the difference in output."
      ]
    },
    {
      "cell_type": "code",
      "execution_count": 66,
      "metadata": {
        "colab": {
          "base_uri": "https://localhost:8080/"
        },
        "id": "hEyTKihYXSiq",
        "outputId": "1110e431-a54f-40b8-d33d-fcd6dbc5534a"
      },
      "outputs": [
        {
          "output_type": "stream",
          "name": "stdout",
          "text": [
            "title,description\n",
            "Fast & Furious,\"A movie, a race, a franchise\"\n",
            "The Dark Knight,\"Gotham, the \"\"Batman\"\", and the Joker\"\n",
            "Memento,A guy forgets everything every 15 minutes\n"
          ]
        }
      ],
      "source": [
        "!head movies3.csv"
      ]
    },
    {
      "cell_type": "markdown",
      "metadata": {
        "id": "2TPOZRomXSiq"
      },
      "source": [
        "The CSV file is formatted properly. We can verify this by trying to read it back."
      ]
    },
    {
      "cell_type": "code",
      "execution_count": 67,
      "metadata": {
        "colab": {
          "base_uri": "https://localhost:8080/",
          "height": 143
        },
        "id": "RFtWNZv6XSir",
        "outputId": "13813fca-3689-40ca-80e5-01146a4e2227"
      },
      "outputs": [
        {
          "output_type": "execute_result",
          "data": {
            "text/plain": [
              "             title                                description\n",
              "0   Fast & Furious               A movie, a race, a franchise\n",
              "1  The Dark Knight        Gotham, the \"Batman\", and the Joker\n",
              "2          Memento  A guy forgets everything every 15 minutes"
            ],
            "text/html": [
              "\n",
              "  <div id=\"df-b3986247-1f40-4872-8e7d-0daf67cc8469\">\n",
              "    <div class=\"colab-df-container\">\n",
              "      <div>\n",
              "<style scoped>\n",
              "    .dataframe tbody tr th:only-of-type {\n",
              "        vertical-align: middle;\n",
              "    }\n",
              "\n",
              "    .dataframe tbody tr th {\n",
              "        vertical-align: top;\n",
              "    }\n",
              "\n",
              "    .dataframe thead th {\n",
              "        text-align: right;\n",
              "    }\n",
              "</style>\n",
              "<table border=\"1\" class=\"dataframe\">\n",
              "  <thead>\n",
              "    <tr style=\"text-align: right;\">\n",
              "      <th></th>\n",
              "      <th>title</th>\n",
              "      <th>description</th>\n",
              "    </tr>\n",
              "  </thead>\n",
              "  <tbody>\n",
              "    <tr>\n",
              "      <th>0</th>\n",
              "      <td>Fast &amp; Furious</td>\n",
              "      <td>A movie, a race, a franchise</td>\n",
              "    </tr>\n",
              "    <tr>\n",
              "      <th>1</th>\n",
              "      <td>The Dark Knight</td>\n",
              "      <td>Gotham, the \"Batman\", and the Joker</td>\n",
              "    </tr>\n",
              "    <tr>\n",
              "      <th>2</th>\n",
              "      <td>Memento</td>\n",
              "      <td>A guy forgets everything every 15 minutes</td>\n",
              "    </tr>\n",
              "  </tbody>\n",
              "</table>\n",
              "</div>\n",
              "      <button class=\"colab-df-convert\" onclick=\"convertToInteractive('df-b3986247-1f40-4872-8e7d-0daf67cc8469')\"\n",
              "              title=\"Convert this dataframe to an interactive table.\"\n",
              "              style=\"display:none;\">\n",
              "        \n",
              "  <svg xmlns=\"http://www.w3.org/2000/svg\" height=\"24px\"viewBox=\"0 0 24 24\"\n",
              "       width=\"24px\">\n",
              "    <path d=\"M0 0h24v24H0V0z\" fill=\"none\"/>\n",
              "    <path d=\"M18.56 5.44l.94 2.06.94-2.06 2.06-.94-2.06-.94-.94-2.06-.94 2.06-2.06.94zm-11 1L8.5 8.5l.94-2.06 2.06-.94-2.06-.94L8.5 2.5l-.94 2.06-2.06.94zm10 10l.94 2.06.94-2.06 2.06-.94-2.06-.94-.94-2.06-.94 2.06-2.06.94z\"/><path d=\"M17.41 7.96l-1.37-1.37c-.4-.4-.92-.59-1.43-.59-.52 0-1.04.2-1.43.59L10.3 9.45l-7.72 7.72c-.78.78-.78 2.05 0 2.83L4 21.41c.39.39.9.59 1.41.59.51 0 1.02-.2 1.41-.59l7.78-7.78 2.81-2.81c.8-.78.8-2.07 0-2.86zM5.41 20L4 18.59l7.72-7.72 1.47 1.35L5.41 20z\"/>\n",
              "  </svg>\n",
              "      </button>\n",
              "      \n",
              "  <style>\n",
              "    .colab-df-container {\n",
              "      display:flex;\n",
              "      flex-wrap:wrap;\n",
              "      gap: 12px;\n",
              "    }\n",
              "\n",
              "    .colab-df-convert {\n",
              "      background-color: #E8F0FE;\n",
              "      border: none;\n",
              "      border-radius: 50%;\n",
              "      cursor: pointer;\n",
              "      display: none;\n",
              "      fill: #1967D2;\n",
              "      height: 32px;\n",
              "      padding: 0 0 0 0;\n",
              "      width: 32px;\n",
              "    }\n",
              "\n",
              "    .colab-df-convert:hover {\n",
              "      background-color: #E2EBFA;\n",
              "      box-shadow: 0px 1px 2px rgba(60, 64, 67, 0.3), 0px 1px 3px 1px rgba(60, 64, 67, 0.15);\n",
              "      fill: #174EA6;\n",
              "    }\n",
              "\n",
              "    [theme=dark] .colab-df-convert {\n",
              "      background-color: #3B4455;\n",
              "      fill: #D2E3FC;\n",
              "    }\n",
              "\n",
              "    [theme=dark] .colab-df-convert:hover {\n",
              "      background-color: #434B5C;\n",
              "      box-shadow: 0px 1px 3px 1px rgba(0, 0, 0, 0.15);\n",
              "      filter: drop-shadow(0px 1px 2px rgba(0, 0, 0, 0.3));\n",
              "      fill: #FFFFFF;\n",
              "    }\n",
              "  </style>\n",
              "\n",
              "      <script>\n",
              "        const buttonEl =\n",
              "          document.querySelector('#df-b3986247-1f40-4872-8e7d-0daf67cc8469 button.colab-df-convert');\n",
              "        buttonEl.style.display =\n",
              "          google.colab.kernel.accessAllowed ? 'block' : 'none';\n",
              "\n",
              "        async function convertToInteractive(key) {\n",
              "          const element = document.querySelector('#df-b3986247-1f40-4872-8e7d-0daf67cc8469');\n",
              "          const dataTable =\n",
              "            await google.colab.kernel.invokeFunction('convertToInteractive',\n",
              "                                                     [key], {});\n",
              "          if (!dataTable) return;\n",
              "\n",
              "          const docLinkHtml = 'Like what you see? Visit the ' +\n",
              "            '<a target=\"_blank\" href=https://colab.research.google.com/notebooks/data_table.ipynb>data table notebook</a>'\n",
              "            + ' to learn more about interactive tables.';\n",
              "          element.innerHTML = '';\n",
              "          dataTable['output_type'] = 'display_data';\n",
              "          await google.colab.output.renderOutput(dataTable, element);\n",
              "          const docLink = document.createElement('div');\n",
              "          docLink.innerHTML = docLinkHtml;\n",
              "          element.appendChild(docLink);\n",
              "        }\n",
              "      </script>\n",
              "    </div>\n",
              "  </div>\n",
              "  "
            ]
          },
          "metadata": {},
          "execution_count": 67
        }
      ],
      "source": [
        "pd.read_csv('movies3.csv')"
      ]
    },
    {
      "cell_type": "markdown",
      "metadata": {
        "id": "zKl_u9GVXSit"
      },
      "source": [
        "We're able to write and read the file properly with `pandas`.\n",
        "\n",
        "In general, it's always a better idea to use libraries like Pandas for reading and writing CSV files."
      ]
    },
    {
      "cell_type": "markdown",
      "metadata": {
        "id": "ORa4foZ4XSit"
      },
      "source": [
        "### Save and upload your notebook\n",
        "\n",
        "Whether you're running this Jupyter notebook online or on your computer, it's essential to save your work from time to time. You can continue working on a saved notebook later or share it with friends and colleagues to let them execute your code. [Jovian](https://www.jovian.ai) offers an easy way of saving and sharing your Jupyter notebooks online."
      ]
    },
    {
      "cell_type": "code",
      "execution_count": 68,
      "metadata": {
        "colab": {
          "base_uri": "https://localhost:8080/"
        },
        "id": "j6UQ2gVhXSit",
        "outputId": "4292b6f3-c1c4-4f7c-bdc9-e40827c73bb5"
      },
      "outputs": [
        {
          "output_type": "stream",
          "name": "stdout",
          "text": [
            "\u001b[?25l     \u001b[90m━━━━━━━━━━━━━━━━━━━━━━━━━━━━━━━━━━━━━━━━\u001b[0m \u001b[32m0.0/68.6 kB\u001b[0m \u001b[31m?\u001b[0m eta \u001b[36m-:--:--\u001b[0m\r\u001b[2K     \u001b[90m━━━━━━━━━━━━━━━━━━━━━━━━━━━━━━━━━━━━━━━━\u001b[0m \u001b[32m68.6/68.6 kB\u001b[0m \u001b[31m4.4 MB/s\u001b[0m eta \u001b[36m0:00:00\u001b[0m\n",
            "\u001b[?25h  Preparing metadata (setup.py) ... \u001b[?25l\u001b[?25hdone\n",
            "  Building wheel for uuid (setup.py) ... \u001b[?25l\u001b[?25hdone\n"
          ]
        }
      ],
      "source": [
        "# Install the library\n",
        "!pip install jovian --upgrade --quiet"
      ]
    },
    {
      "cell_type": "code",
      "execution_count": 69,
      "metadata": {
        "id": "FoDv5tFhXSiu"
      },
      "outputs": [],
      "source": [
        "# Import the jovian module\n",
        "import jovian"
      ]
    },
    {
      "cell_type": "code",
      "execution_count": 70,
      "metadata": {
        "colab": {
          "base_uri": "https://localhost:8080/"
        },
        "id": "7apdr9oPXSiu",
        "outputId": "830de42d-2400-4124-94d5-dcc007cab54e"
      },
      "outputs": [
        {
          "output_type": "stream",
          "name": "stdout",
          "text": [
            "[jovian] Detected Colab notebook...\u001b[0m\n",
            "[jovian] jovian.commit() is no longer required on Google Colab. If you ran this notebook from Jovian, \n",
            "then just save this file in Colab using Ctrl+S/Cmd+S and it will be updated on Jovian. \n",
            "Also, you can also delete this cell, it's no longer necessary.\u001b[0m\n"
          ]
        }
      ],
      "source": [
        "jovian.commit(project='python-os-and-filesystem')"
      ]
    },
    {
      "cell_type": "markdown",
      "metadata": {
        "id": "vPy5hyqEXSiu"
      },
      "source": [
        "The first time you run `jovian.commit`, you'll be asked to provide an API Key to securely upload the notebook to your Jovian account. You can get the API key from your [Jovian profile page](https://jovian.ai) after logging in / signing up.\n",
        "\n",
        "\n",
        "`jovian.commit` uploads the notebook to your Jovian account, captures the Python environment, and creates a shareable link for your notebook, as shown above. You can use this link to share your work and let anyone (including you) run your notebooks and reproduce your work."
      ]
    },
    {
      "cell_type": "markdown",
      "metadata": {
        "id": "j9tF43tMXSiv"
      },
      "source": [
        "## Exercise - Processing CSV files using a dictionary of lists\n",
        "\n",
        "We defined the functions `read_csv` and `write_csv` above to convert a CSV file into a list of dictionaries and vice versa. In this exercise, you'll transform the CSV data into a dictionary of lists instead, with one list for each column in the file.\n",
        "\n",
        "For example, consider the following CSV file:\n",
        "\n",
        "```\n",
        "amount,duration,rate,down_payment\n",
        "828400,120,0.11,100000\n",
        "4633400,240,0.06,\n",
        "42900,90,0.08,8900\n",
        "983000,16,0.14,\n",
        "15230,48,0.07,4300\n",
        "```\n",
        "\n",
        "We'll convert it into the following dictionary of lists:\n",
        "\n",
        "```\n",
        "{\n",
        "  amount: [828400, 4633400, 42900, 983000, 15230],\n",
        "  duration: []120, 240, 90, 16, 48],\n",
        "  rate: [0.11, 0.06, 0.08, 0.14, 0.07],\n",
        "  down_payment: [100000, 0, 8900, 0, 4300]\n",
        "}\n",
        "```\n",
        "\n",
        "Complete the following tasks using the empty cells below:\n",
        "\n",
        "1. Download three CSV files to the folder `data2` using the URLs listed in the code cell below, and verify the downloaded files.\n",
        "2. Define a function `read_csv_columnar` that reads a CSV file and returns a dictionary of lists in the format shown above.\n",
        "3. Define a function `compute_emis` that adds another key `emi` into the dictionary with a list of EMIs computed for each row of data.\n",
        "4. Define a function `write_csv_columnar` that writes the data from the dictionary of lists into a correctly formatted CSV file.\n",
        "5. Process all three downloaded files and write the results by creating new files in the directory `data2`.\n",
        "\n",
        "Define helper functions wherever required.\n"
      ]
    },
    {
      "cell_type": "code",
      "execution_count": 71,
      "metadata": {
        "id": "ItHi6sKpXSiv"
      },
      "outputs": [],
      "source": [
        "url1 = 'https://gist.githubusercontent.com/aakashns/257f6e6c8719c17d0e498ea287d1a386/raw/7def9ef4234ddf0bc82f855ad67dac8b971852ef/loans1.txt'\n",
        "url2 = 'https://gist.githubusercontent.com/aakashns/257f6e6c8719c17d0e498ea287d1a386/raw/7def9ef4234ddf0bc82f855ad67dac8b971852ef/loans2.txt'\n",
        "url3 = 'https://gist.githubusercontent.com/aakashns/257f6e6c8719c17d0e498ea287d1a386/raw/7def9ef4234ddf0bc82f855ad67dac8b971852ef/loans3.txt'"
      ]
    },
    {
      "cell_type": "code",
      "execution_count": 71,
      "metadata": {
        "id": "7JTkxCmWXSiv"
      },
      "outputs": [],
      "source": []
    },
    {
      "cell_type": "code",
      "execution_count": 71,
      "metadata": {
        "id": "2CSQvGPyXSiv"
      },
      "outputs": [],
      "source": []
    },
    {
      "cell_type": "code",
      "execution_count": 71,
      "metadata": {
        "id": "5xP-hYkrXSiw"
      },
      "outputs": [],
      "source": []
    },
    {
      "cell_type": "code",
      "execution_count": 71,
      "metadata": {
        "id": "upVxuwWxXSiw"
      },
      "outputs": [],
      "source": []
    },
    {
      "cell_type": "code",
      "execution_count": 71,
      "metadata": {
        "id": "AOjX4UilXSiw"
      },
      "outputs": [],
      "source": []
    },
    {
      "cell_type": "markdown",
      "metadata": {
        "id": "y_DGExbOXSiw"
      },
      "source": [
        "Finally, let's save a snapshot of our work using `jovian.commit`."
      ]
    },
    {
      "cell_type": "code",
      "execution_count": 72,
      "metadata": {
        "colab": {
          "base_uri": "https://localhost:8080/"
        },
        "id": "kZAjRR3VXSiw",
        "outputId": "1218fe4b-ec61-4dcf-808a-ffc21e6f8529"
      },
      "outputs": [
        {
          "output_type": "stream",
          "name": "stdout",
          "text": [
            "[jovian] Detected Colab notebook...\u001b[0m\n",
            "[jovian] jovian.commit() is no longer required on Google Colab. If you ran this notebook from Jovian, \n",
            "then just save this file in Colab using Ctrl+S/Cmd+S and it will be updated on Jovian. \n",
            "Also, you can also delete this cell, it's no longer necessary.\u001b[0m\n"
          ]
        }
      ],
      "source": [
        "jovian.commit(project='python-os-and-filesystem')"
      ]
    },
    {
      "cell_type": "markdown",
      "metadata": {
        "id": "DbCRRm06XSix"
      },
      "source": [
        "## Summary and Further Reading\n",
        "\n",
        "With this, we complete our discussion of reading from and writing to files in Python. We've covered the following topics in this tutorial:\n",
        "\n",
        "* Interacting with the file system using the `os` module\n",
        "* Downloading files from URLs using the `urllib` module\n",
        "* Opening files using the `open` built-in function\n",
        "* Reading the contents of a file using `.read`\n",
        "* Closing a file automatically using `with`\n",
        "* Reading a file line by line using `readlines`\n",
        "* Processing data from a CSV file by defining functions\n",
        "* Using helper functions to build more complex functions\n",
        "* Writing data to a file using `.write`\n",
        "\n",
        "This tutorial on working with files in Python is by no means exhaustive. Following are some more resources you should check out:\n",
        "\n",
        "* Python Tutorial at W3Schools: https://www.w3schools.com/python/\n",
        "* Practical Python Programming: https://dabeaz-course.github.io/practical-python/Notes/Contents.html\n",
        "* Python official documentation: https://docs.python.org/3/tutorial/index.html\n",
        "\n",
        "You are ready to move on to the next tutorial: [Numerical Computing with Python and Numpy](https://jovian.ai/aakashns/python-numerical-computing-with-numpy)."
      ]
    },
    {
      "cell_type": "markdown",
      "metadata": {
        "id": "A-BYfH_nXSix"
      },
      "source": [
        "## Questions for Revision\n",
        "\n",
        "Try answering the following questions to test your understanding of the topics covered in this notebook:\n",
        "\n",
        "1. What is the purpose of the `os` module in Python?\n",
        "2. How do you identify the current working directory in a Jupyter notebook?\n",
        "3. How do you retrieve the list of files within a directory using Python?\n",
        "4. How do you create a directory using Python?\n",
        "5. How do you check whether a file or directory exists on the filesystem? Hint: `os.path.exists`.\n",
        "6. Where can you find the full list of functions contained in the `os` module?\n",
        "7. Give examples of 5 useful functions from the `os` and `os.path` modules.\n",
        "8. How do you download a file from a URL using Python?\n",
        "9. How do you open a file using Python? Give an example?\n",
        "10. What are the different modes for opening a file in Python?\n",
        "11. Can you open a file in multiple modes? Illustrate with an example.\n",
        "12. What is the file object? How is it useful?\n",
        "13. How do you read the contents of a file into a string?\n",
        "14. What is a CSV file? Give an example.\n",
        "15. How do you close an open file?\n",
        "16. Why is it essential to close a file after processing it?\n",
        "17. How do you ensure that files are closed automatically after processing? Give an example.\n",
        "18. How is the `with` statement useful for working with files?\n",
        "19. What happens if you try to read from a closed file?\n",
        "20. How do you read the contents of a file line by line?\n",
        "21. Write a function to convert the contents of a CSV file into a list of dictionaries (one dictionary for each row of the file).\n",
        "22. Write a function to convert the contents of a CSV file into a dictionary of lists (one dictionary for each column of the file).\n",
        "23. How do you write to a file using Python?\n",
        "24. How is the string `.format` method for writing data to a file in CSV format?\n",
        "25. Write a function to write data from a list of dictionaries into a CSV file.\n",
        "26. Write a function to write data from a dictionary of lists into a CSV file.\n",
        "27. Where can you learn about the methods supported by the file object in Python?\n",
        "28. How can you read from and write to CSV files using Pandas?\n"
      ]
    }
  ],
  "metadata": {
    "language_info": {
      "name": "python"
    },
    "colab": {
      "provenance": []
    },
    "kernelspec": {
      "name": "python3",
      "display_name": "Python 3"
    }
  },
  "nbformat": 4,
  "nbformat_minor": 0
}